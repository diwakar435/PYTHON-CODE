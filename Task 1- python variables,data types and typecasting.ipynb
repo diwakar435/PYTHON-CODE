{
 "cells": [
  {
   "cell_type": "markdown",
   "id": "c5ee57a4-969e-4a04-b5d1-7ec752a404b9",
   "metadata": {},
   "source": [
    "# variables"
   ]
  },
  {
   "cell_type": "code",
   "execution_count": 24,
   "id": "154fe74e-64e2-44b5-b1be-b297049d9b79",
   "metadata": {},
   "outputs": [
    {
     "data": {
      "text/plain": [
       "20"
      ]
     },
     "execution_count": 24,
     "metadata": {},
     "output_type": "execute_result"
    }
   ],
   "source": [
    "var1 = 20\n",
    "var1"
   ]
  },
  {
   "cell_type": "code",
   "execution_count": 26,
   "id": "1340d6fd-f0f2-4d02-83aa-37607449e59f",
   "metadata": {},
   "outputs": [
    {
     "ename": "SyntaxError",
     "evalue": "invalid decimal literal (3974907587.py, line 1)",
     "output_type": "error",
     "traceback": [
      "\u001b[1;36m  Cell \u001b[1;32mIn[26], line 1\u001b[1;36m\u001b[0m\n\u001b[1;33m    1var = 20  # variable doesn't start with number\u001b[0m\n\u001b[1;37m    ^\u001b[0m\n\u001b[1;31mSyntaxError\u001b[0m\u001b[1;31m:\u001b[0m invalid decimal literal\n"
     ]
    }
   ],
   "source": [
    "1var = 20  # variable doesn't start with number\n",
    "1var"
   ]
  },
  {
   "cell_type": "code",
   "execution_count": 28,
   "id": "00040129-b2ab-4be2-aeb5-adc0ab7a3529",
   "metadata": {},
   "outputs": [
    {
     "data": {
      "text/plain": [
       "20"
      ]
     },
     "execution_count": 28,
     "metadata": {},
     "output_type": "execute_result"
    }
   ],
   "source": [
    "var_1 = 20\n",
    "var_1"
   ]
  },
  {
   "cell_type": "code",
   "execution_count": 30,
   "id": "a36a89c2-116d-46da-bbe8-3f447cafdeed",
   "metadata": {},
   "outputs": [
    {
     "ename": "SyntaxError",
     "evalue": "invalid syntax (874833648.py, line 1)",
     "output_type": "error",
     "traceback": [
      "\u001b[1;36m  Cell \u001b[1;32mIn[30], line 1\u001b[1;36m\u001b[0m\n\u001b[1;33m    var@ = 30  # variable does not start with special characters\u001b[0m\n\u001b[1;37m         ^\u001b[0m\n\u001b[1;31mSyntaxError\u001b[0m\u001b[1;31m:\u001b[0m invalid syntax\n"
     ]
    }
   ],
   "source": [
    "var@ = 30  # variable does not start with special characters\n",
    "var@"
   ]
  },
  {
   "cell_type": "code",
   "execution_count": 32,
   "id": "a7c7aa36-9666-4aef-8a38-773f9d7a3016",
   "metadata": {},
   "outputs": [
    {
     "data": {
      "text/plain": [
       "40"
      ]
     },
     "execution_count": 32,
     "metadata": {},
     "output_type": "execute_result"
    }
   ],
   "source": [
    "aaaaaa = 40\n",
    "aaaaaa"
   ]
  },
  {
   "cell_type": "code",
   "execution_count": 34,
   "id": "296a1d82-d2a1-422b-95d5-5c2a80dc7c78",
   "metadata": {},
   "outputs": [
    {
     "data": {
      "text/plain": [
       "25"
      ]
     },
     "execution_count": 34,
     "metadata": {},
     "output_type": "execute_result"
    }
   ],
   "source": [
    "Var = 25 \n",
    "Var"
   ]
  },
  {
   "cell_type": "code",
   "execution_count": 36,
   "id": "56e4ea29-20eb-430d-abbc-e74e285ea5cc",
   "metadata": {},
   "outputs": [
    {
     "data": {
      "text/plain": [
       "35"
      ]
     },
     "execution_count": 36,
     "metadata": {},
     "output_type": "execute_result"
    }
   ],
   "source": [
    "VAR = 35\n",
    "VAR"
   ]
  },
  {
   "cell_type": "code",
   "execution_count": 38,
   "id": "36ec3274-f268-495d-8f39-4b81a57c3b42",
   "metadata": {},
   "outputs": [
    {
     "ename": "NameError",
     "evalue": "name 'a' is not defined",
     "output_type": "error",
     "traceback": [
      "\u001b[1;31m---------------------------------------------------------------------------\u001b[0m",
      "\u001b[1;31mNameError\u001b[0m                                 Traceback (most recent call last)",
      "Cell \u001b[1;32mIn[38], line 2\u001b[0m\n\u001b[0;32m      1\u001b[0m aaaaaaaaa \u001b[38;5;241m=\u001b[39m \u001b[38;5;241m22\u001b[39m \u001b[38;5;66;03m# variable does not have a length limit\u001b[39;00m\n\u001b[1;32m----> 2\u001b[0m a\n",
      "\u001b[1;31mNameError\u001b[0m: name 'a' is not defined"
     ]
    }
   ],
   "source": [
    "aaaaaaaaa = 22 # variable does not have a length limit\n",
    "a"
   ]
  },
  {
   "cell_type": "code",
   "execution_count": 40,
   "id": "b0f3883a-0d71-4783-8eea-06b38df72af5",
   "metadata": {},
   "outputs": [
    {
     "data": {
      "text/plain": [
       "22"
      ]
     },
     "execution_count": 40,
     "metadata": {},
     "output_type": "execute_result"
    }
   ],
   "source": [
    "var_ = 22\n",
    "var_"
   ]
  },
  {
   "cell_type": "code",
   "execution_count": 47,
   "id": "26e20f7e-925b-4b71-b838-921126e48300",
   "metadata": {},
   "outputs": [
    {
     "data": {
      "text/plain": [
       "22"
      ]
     },
     "execution_count": 47,
     "metadata": {},
     "output_type": "execute_result"
    }
   ],
   "source": [
    "vAR= 22\n",
    "vAR"
   ]
  },
  {
   "cell_type": "markdown",
   "id": "22f4a5c5-ae88-4acd-b751-43f1b58478f1",
   "metadata": {},
   "source": [
    "# Data Types"
   ]
  },
  {
   "cell_type": "code",
   "execution_count": null,
   "id": "5c77f235-4e2b-4af4-9dec-1f29672d1213",
   "metadata": {},
   "outputs": [],
   "source": [
    "1) Integer"
   ]
  },
  {
   "cell_type": "code",
   "execution_count": 50,
   "id": "495d9b41-430b-4953-b298-f395da06bd4b",
   "metadata": {},
   "outputs": [
    {
     "data": {
      "text/plain": [
       "20"
      ]
     },
     "execution_count": 50,
     "metadata": {},
     "output_type": "execute_result"
    }
   ],
   "source": [
    "a = 20\n",
    "a"
   ]
  },
  {
   "cell_type": "code",
   "execution_count": 52,
   "id": "e84153ac-dad8-4764-9ec2-d20517077356",
   "metadata": {},
   "outputs": [
    {
     "data": {
      "text/plain": [
       "int"
      ]
     },
     "execution_count": 52,
     "metadata": {},
     "output_type": "execute_result"
    }
   ],
   "source": [
    "type(a)"
   ]
  },
  {
   "cell_type": "code",
   "execution_count": 58,
   "id": "e3c260bd-37ed-400a-955f-6f56c82ff4f8",
   "metadata": {},
   "outputs": [
    {
     "name": "stdout",
     "output_type": "stream",
     "text": [
      "20 30\n"
     ]
    }
   ],
   "source": [
    "a , b = 20,30\n",
    "print(a,b)"
   ]
  },
  {
   "cell_type": "code",
   "execution_count": 60,
   "id": "eba8c487-fd34-473c-8087-c18427e90885",
   "metadata": {},
   "outputs": [
    {
     "ename": "ValueError",
     "evalue": "too many values to unpack (expected 2)",
     "output_type": "error",
     "traceback": [
      "\u001b[1;31m---------------------------------------------------------------------------\u001b[0m",
      "\u001b[1;31mValueError\u001b[0m                                Traceback (most recent call last)",
      "Cell \u001b[1;32mIn[60], line 1\u001b[0m\n\u001b[1;32m----> 1\u001b[0m a , b \u001b[38;5;241m=\u001b[39m \u001b[38;5;241m20\u001b[39m,\u001b[38;5;241m30\u001b[39m,\u001b[38;5;241m40\u001b[39m\n",
      "\u001b[1;31mValueError\u001b[0m: too many values to unpack (expected 2)"
     ]
    }
   ],
   "source": [
    "a , b = 20,30,40 # integer does not accept more than 2 values"
   ]
  },
  {
   "cell_type": "code",
   "execution_count": 1,
   "id": "55bf0509-b48d-4524-a686-a65455bd19ee",
   "metadata": {},
   "outputs": [
    {
     "data": {
      "text/plain": [
       "30"
      ]
     },
     "execution_count": 1,
     "metadata": {},
     "output_type": "execute_result"
    }
   ],
   "source": [
    " i = 30\n",
    "i"
   ]
  },
  {
   "cell_type": "code",
   "execution_count": 3,
   "id": "9f51c2b7-5833-42b6-93f0-60a5b9968cdd",
   "metadata": {},
   "outputs": [
    {
     "name": "stdout",
     "output_type": "stream",
     "text": [
      "25 35\n"
     ]
    }
   ],
   "source": [
    "i1  , i2 = 25,35\n",
    "print(i1,i2)"
   ]
  },
  {
   "cell_type": "code",
   "execution_count": 7,
   "id": "41d443c1-4b59-4294-86d1-236d55c7b918",
   "metadata": {},
   "outputs": [
    {
     "name": "stdout",
     "output_type": "stream",
     "text": [
      "60\n"
     ]
    }
   ],
   "source": [
    "i3 = i1 + i2\n",
    "print(i3)"
   ]
  },
  {
   "cell_type": "code",
   "execution_count": 9,
   "id": "807a357c-e3ce-4d77-bc13-ba8989af469b",
   "metadata": {},
   "outputs": [
    {
     "data": {
      "text/plain": [
       "-10"
      ]
     },
     "execution_count": 9,
     "metadata": {},
     "output_type": "execute_result"
    }
   ],
   "source": [
    "i3 = i1- i2\n",
    "i3"
   ]
  },
  {
   "cell_type": "code",
   "execution_count": 11,
   "id": "e1ab1a3c-6f3f-48cc-931f-4788845fdd0c",
   "metadata": {},
   "outputs": [
    {
     "data": {
      "text/plain": [
       "-10"
      ]
     },
     "execution_count": 11,
     "metadata": {},
     "output_type": "execute_result"
    }
   ],
   "source": [
    "i3"
   ]
  },
  {
   "cell_type": "code",
   "execution_count": null,
   "id": "7efdb705-701e-4830-9f78-da7563fc6f78",
   "metadata": {},
   "outputs": [],
   "source": [
    "2) Float"
   ]
  },
  {
   "cell_type": "code",
   "execution_count": 13,
   "id": "1bccf5b1-2b26-4bd7-bf7e-7d27f756760b",
   "metadata": {},
   "outputs": [
    {
     "data": {
      "text/plain": [
       "2.4"
      ]
     },
     "execution_count": 13,
     "metadata": {},
     "output_type": "execute_result"
    }
   ],
   "source": [
    "f = 2.4\n",
    "f"
   ]
  },
  {
   "cell_type": "code",
   "execution_count": 15,
   "id": "58972b07-f41e-43df-954a-29ed3cee98e1",
   "metadata": {},
   "outputs": [
    {
     "data": {
      "text/plain": [
       "float"
      ]
     },
     "execution_count": 15,
     "metadata": {},
     "output_type": "execute_result"
    }
   ],
   "source": [
    "type(f)"
   ]
  },
  {
   "cell_type": "code",
   "execution_count": 17,
   "id": "22883b06-704a-4c9b-b506-36e5115fa915",
   "metadata": {},
   "outputs": [
    {
     "data": {
      "text/plain": [
       "(2.5, 3.5, 4.5)"
      ]
     },
     "execution_count": 17,
     "metadata": {},
     "output_type": "execute_result"
    }
   ],
   "source": [
    "f1 , f2, f3 = 2.5,3.5,4.5\n",
    "f1,f2,f3"
   ]
  },
  {
   "cell_type": "code",
   "execution_count": null,
   "id": "c8528ab1-4f77-4c7b-8746-33b44b370f86",
   "metadata": {},
   "outputs": [],
   "source": [
    "e0 = 1, e1 = 10, e2 = 100 , e3 = 1000,e4 = 10000"
   ]
  },
  {
   "cell_type": "code",
   "execution_count": 21,
   "id": "50c23b83-0bd2-4dba-9f7d-d7e20ce5f78a",
   "metadata": {},
   "outputs": [
    {
     "data": {
      "text/plain": [
       "1.0"
      ]
     },
     "execution_count": 21,
     "metadata": {},
     "output_type": "execute_result"
    }
   ],
   "source": [
    "f1 = 1.e0\n",
    "f1"
   ]
  },
  {
   "cell_type": "code",
   "execution_count": 23,
   "id": "0ba5193e-982d-4d67-bd0c-b9817095dd98",
   "metadata": {},
   "outputs": [
    {
     "data": {
      "text/plain": [
       "20.0"
      ]
     },
     "execution_count": 23,
     "metadata": {},
     "output_type": "execute_result"
    }
   ],
   "source": [
    "f2 = 2.e1\n",
    "f2"
   ]
  },
  {
   "cell_type": "code",
   "execution_count": 25,
   "id": "d714115e-497f-4754-a3a9-1857e4542cdc",
   "metadata": {},
   "outputs": [
    {
     "data": {
      "text/plain": [
       "300.0"
      ]
     },
     "execution_count": 25,
     "metadata": {},
     "output_type": "execute_result"
    }
   ],
   "source": [
    "f3 = 3.e2\n",
    "f3"
   ]
  },
  {
   "cell_type": "code",
   "execution_count": 27,
   "id": "86403a43-492b-4679-ab2f-c3814ffa60df",
   "metadata": {},
   "outputs": [
    {
     "data": {
      "text/plain": [
       "4000.0"
      ]
     },
     "execution_count": 27,
     "metadata": {},
     "output_type": "execute_result"
    }
   ],
   "source": [
    "f4 = 4.e3\n",
    "f4"
   ]
  },
  {
   "cell_type": "code",
   "execution_count": 29,
   "id": "43281e76-b143-4aba-86ee-63c9c6247776",
   "metadata": {},
   "outputs": [
    {
     "data": {
      "text/plain": [
       "50000.0"
      ]
     },
     "execution_count": 29,
     "metadata": {},
     "output_type": "execute_result"
    }
   ],
   "source": [
    "f5 = 5.e4\n",
    "f5"
   ]
  },
  {
   "cell_type": "code",
   "execution_count": 35,
   "id": "e213bccf-2708-455a-83b4-41e4cacc6c57",
   "metadata": {},
   "outputs": [
    {
     "data": {
      "text/plain": [
       "2500.0"
      ]
     },
     "execution_count": 35,
     "metadata": {},
     "output_type": "execute_result"
    }
   ],
   "source": [
    "f6 = 2.5e3\n",
    "f6"
   ]
  },
  {
   "cell_type": "code",
   "execution_count": null,
   "id": "01d30625-e8ec-4d41-b501-fcdb2c118a91",
   "metadata": {},
   "outputs": [],
   "source": [
    "3) Boolean"
   ]
  },
  {
   "cell_type": "code",
   "execution_count": 37,
   "id": "313d5dbb-c102-44e3-bdb0-69c64ec6dfd0",
   "metadata": {},
   "outputs": [
    {
     "data": {
      "text/plain": [
       "True"
      ]
     },
     "execution_count": 37,
     "metadata": {},
     "output_type": "execute_result"
    }
   ],
   "source": [
    "b = True\n",
    "b"
   ]
  },
  {
   "cell_type": "code",
   "execution_count": 39,
   "id": "2939fd3c-93bd-4c95-a401-aa537d9a2193",
   "metadata": {},
   "outputs": [
    {
     "data": {
      "text/plain": [
       "False"
      ]
     },
     "execution_count": 39,
     "metadata": {},
     "output_type": "execute_result"
    }
   ],
   "source": [
    "b = False\n",
    "b"
   ]
  },
  {
   "cell_type": "code",
   "execution_count": 41,
   "id": "7bdd907d-5cb1-4f6b-849a-3e71871ccf3d",
   "metadata": {},
   "outputs": [
    {
     "data": {
      "text/plain": [
       "bool"
      ]
     },
     "execution_count": 41,
     "metadata": {},
     "output_type": "execute_result"
    }
   ],
   "source": [
    "type(b)"
   ]
  },
  {
   "cell_type": "code",
   "execution_count": 43,
   "id": "128b6a6a-4307-4380-978c-0ba048502427",
   "metadata": {},
   "outputs": [
    {
     "data": {
      "text/plain": [
       "1"
      ]
     },
     "execution_count": 43,
     "metadata": {},
     "output_type": "execute_result"
    }
   ],
   "source": [
    "True - False"
   ]
  },
  {
   "cell_type": "code",
   "execution_count": 45,
   "id": "809acdbd-c3e7-4f83-ada3-483bf534c769",
   "metadata": {},
   "outputs": [
    {
     "data": {
      "text/plain": [
       "-1"
      ]
     },
     "execution_count": 45,
     "metadata": {},
     "output_type": "execute_result"
    }
   ],
   "source": [
    "False - True"
   ]
  },
  {
   "cell_type": "code",
   "execution_count": 47,
   "id": "0a1da606-9328-4d13-879f-94b447b112e8",
   "metadata": {},
   "outputs": [
    {
     "ename": "ZeroDivisionError",
     "evalue": "division by zero",
     "output_type": "error",
     "traceback": [
      "\u001b[1;31m---------------------------------------------------------------------------\u001b[0m",
      "\u001b[1;31mZeroDivisionError\u001b[0m                         Traceback (most recent call last)",
      "Cell \u001b[1;32mIn[47], line 1\u001b[0m\n\u001b[1;32m----> 1\u001b[0m \u001b[38;5;28;01mTrue\u001b[39;00m\u001b[38;5;241m/\u001b[39m\u001b[38;5;28;01mFalse\u001b[39;00m\n",
      "\u001b[1;31mZeroDivisionError\u001b[0m: division by zero"
     ]
    }
   ],
   "source": [
    "True/False"
   ]
  },
  {
   "cell_type": "code",
   "execution_count": 49,
   "id": "82cef626-33fe-4cdb-86f8-73258d3f14f7",
   "metadata": {},
   "outputs": [
    {
     "data": {
      "text/plain": [
       "0.0"
      ]
     },
     "execution_count": 49,
     "metadata": {},
     "output_type": "execute_result"
    }
   ],
   "source": [
    "False/True"
   ]
  },
  {
   "cell_type": "code",
   "execution_count": 51,
   "id": "8e08862e-a3b7-44f5-b382-10532e55ece6",
   "metadata": {},
   "outputs": [
    {
     "data": {
      "text/plain": [
       "False"
      ]
     },
     "execution_count": 51,
     "metadata": {},
     "output_type": "execute_result"
    }
   ],
   "source": [
    "bool(0)"
   ]
  },
  {
   "cell_type": "code",
   "execution_count": 53,
   "id": "95413442-4569-472b-803d-29f13456bc07",
   "metadata": {},
   "outputs": [
    {
     "data": {
      "text/plain": [
       "True"
      ]
     },
     "execution_count": 53,
     "metadata": {},
     "output_type": "execute_result"
    }
   ],
   "source": [
    "bool(1)"
   ]
  },
  {
   "cell_type": "code",
   "execution_count": null,
   "id": "070e1e53-70fb-466a-b3ff-da97ac2e7baa",
   "metadata": {},
   "outputs": [],
   "source": [
    "4) complex # a = real , b = imaginary , j = square root of -1"
   ]
  },
  {
   "cell_type": "code",
   "execution_count": 55,
   "id": "7e149b13-4970-4f3c-8921-7ef71cd777a4",
   "metadata": {},
   "outputs": [
    {
     "data": {
      "text/plain": [
       "(2+3j)"
      ]
     },
     "execution_count": 55,
     "metadata": {},
     "output_type": "execute_result"
    }
   ],
   "source": [
    "comp = 2 + 3j\n",
    "comp"
   ]
  },
  {
   "cell_type": "code",
   "execution_count": 57,
   "id": "0ce9724b-83fe-4a59-877b-b8fef61c6235",
   "metadata": {},
   "outputs": [
    {
     "data": {
      "text/plain": [
       "complex"
      ]
     },
     "execution_count": 57,
     "metadata": {},
     "output_type": "execute_result"
    }
   ],
   "source": [
    "type(comp)"
   ]
  },
  {
   "cell_type": "code",
   "execution_count": 59,
   "id": "26b9ada7-a09f-4fd5-965b-4fbdb0a99b4b",
   "metadata": {},
   "outputs": [
    {
     "data": {
      "text/plain": [
       "2.0"
      ]
     },
     "execution_count": 59,
     "metadata": {},
     "output_type": "execute_result"
    }
   ],
   "source": [
    "comp.real"
   ]
  },
  {
   "cell_type": "code",
   "execution_count": 61,
   "id": "cade7d21-53dc-4b10-acec-d6540948ef34",
   "metadata": {},
   "outputs": [
    {
     "data": {
      "text/plain": [
       "3.0"
      ]
     },
     "execution_count": 61,
     "metadata": {},
     "output_type": "execute_result"
    }
   ],
   "source": [
    "comp.imag"
   ]
  },
  {
   "cell_type": "code",
   "execution_count": 63,
   "id": "6d2c9b80-afb1-431b-b1bb-054d399a3a06",
   "metadata": {},
   "outputs": [
    {
     "name": "stdout",
     "output_type": "stream",
     "text": [
      "(7+9j)\n"
     ]
    }
   ],
   "source": [
    "c1 = 3 + 4j\n",
    "c2 = 4 + 5j\n",
    "c3 = c1 + c2\n",
    "print(c3)"
   ]
  },
  {
   "cell_type": "code",
   "execution_count": null,
   "id": "2ef6268a-2e47-4bee-be9d-1b7a415393fc",
   "metadata": {},
   "outputs": [],
   "source": [
    "5)Strings"
   ]
  },
  {
   "cell_type": "code",
   "execution_count": null,
   "id": "09aba175-6591-4295-ad94-83e7a08be2d7",
   "metadata": {},
   "outputs": [],
   "source": [
    "i) single line comment\n",
    "ii)multiline comment\n",
    "iii) indexing string\n",
    "iv) slicing string"
   ]
  },
  {
   "cell_type": "code",
   "execution_count": null,
   "id": "08ffffb6-bdb6-4e59-9b9e-41afec934176",
   "metadata": {},
   "outputs": [],
   "source": [
    "# single line comment"
   ]
  },
  {
   "cell_type": "code",
   "execution_count": 65,
   "id": "8cab8b54-f13a-428e-896a-5f0722f95fa2",
   "metadata": {},
   "outputs": [
    {
     "data": {
      "text/plain": [
       "'nit'"
      ]
     },
     "execution_count": 65,
     "metadata": {},
     "output_type": "execute_result"
    }
   ],
   "source": [
    "str = \"nit\"\n",
    "str "
   ]
  },
  {
   "cell_type": "code",
   "execution_count": 67,
   "id": "7d7927d6-b2cd-4140-8eab-8a177d1a4919",
   "metadata": {},
   "outputs": [
    {
     "data": {
      "text/plain": [
       "'welcome to python'"
      ]
     },
     "execution_count": 67,
     "metadata": {},
     "output_type": "execute_result"
    }
   ],
   "source": [
    "str = 'welcome to python'\n",
    "str"
   ]
  },
  {
   "cell_type": "code",
   "execution_count": null,
   "id": "d6e09d2e-8306-4ce7-aeb2-70de2af7df54",
   "metadata": {},
   "outputs": [],
   "source": [
    "# multiline comment"
   ]
  },
  {
   "cell_type": "code",
   "execution_count": 69,
   "id": "0c8c580a-412a-4c54-87ac-9f50a2c7020c",
   "metadata": {},
   "outputs": [
    {
     "data": {
      "text/plain": [
       "'mutliline\\n        comments\\n        entered'"
      ]
     },
     "execution_count": 69,
     "metadata": {},
     "output_type": "execute_result"
    }
   ],
   "source": [
    "str1 = '''mutliline\n",
    "        comments\n",
    "        entered'''\n",
    "str1"
   ]
  },
  {
   "cell_type": "code",
   "execution_count": null,
   "id": "1a611dcc-25d2-42f0-ae65-0a86dfda60c9",
   "metadata": {},
   "outputs": [],
   "source": [
    "# indexing string"
   ]
  },
  {
   "cell_type": "code",
   "execution_count": 9,
   "id": "9b4622d6-975c-43fa-ac6a-e22755f8f5b6",
   "metadata": {},
   "outputs": [
    {
     "data": {
      "text/plain": [
       "'hello python'"
      ]
     },
     "execution_count": 9,
     "metadata": {},
     "output_type": "execute_result"
    }
   ],
   "source": [
    "s = 'hello python'\n",
    "s"
   ]
  },
  {
   "cell_type": "code",
   "execution_count": 11,
   "id": "7b355f92-ff77-4dd7-901f-97fffc3fbdaf",
   "metadata": {},
   "outputs": [
    {
     "data": {
      "text/plain": [
       "'o'"
      ]
     },
     "execution_count": 11,
     "metadata": {},
     "output_type": "execute_result"
    }
   ],
   "source": [
    "s[4]"
   ]
  },
  {
   "cell_type": "code",
   "execution_count": 13,
   "id": "7a747929-504e-4def-b457-92da2ba218cf",
   "metadata": {},
   "outputs": [
    {
     "data": {
      "text/plain": [
       "'e'"
      ]
     },
     "execution_count": 13,
     "metadata": {},
     "output_type": "execute_result"
    }
   ],
   "source": [
    "s[1]"
   ]
  },
  {
   "cell_type": "code",
   "execution_count": 15,
   "id": "62479bf2-845e-49ad-a21a-3ad7d5a6a01a",
   "metadata": {},
   "outputs": [
    {
     "data": {
      "text/plain": [
       "'o'"
      ]
     },
     "execution_count": 15,
     "metadata": {},
     "output_type": "execute_result"
    }
   ],
   "source": [
    "s[-2]"
   ]
  },
  {
   "cell_type": "code",
   "execution_count": 17,
   "id": "401b4af9-5a30-4f71-97b8-f82ffaca06c6",
   "metadata": {},
   "outputs": [
    {
     "data": {
      "text/plain": [
       "'t'"
      ]
     },
     "execution_count": 17,
     "metadata": {},
     "output_type": "execute_result"
    }
   ],
   "source": [
    "s[-4]"
   ]
  },
  {
   "cell_type": "code",
   "execution_count": 19,
   "id": "c4a58368-37e7-4e58-a7dd-1e98eaba3d7b",
   "metadata": {},
   "outputs": [
    {
     "data": {
      "text/plain": [
       "'nit'"
      ]
     },
     "execution_count": 19,
     "metadata": {},
     "output_type": "execute_result"
    }
   ],
   "source": [
    "s1 = 'nit'\n",
    "s1"
   ]
  },
  {
   "cell_type": "code",
   "execution_count": 23,
   "id": "087188a9-34b3-4468-a9ec-7c725862d069",
   "metadata": {},
   "outputs": [
    {
     "data": {
      "text/plain": [
       "'i'"
      ]
     },
     "execution_count": 23,
     "metadata": {},
     "output_type": "execute_result"
    }
   ],
   "source": [
    "s1[1]"
   ]
  },
  {
   "cell_type": "code",
   "execution_count": 25,
   "id": "c656e671-9259-4f10-adba-56d909edb6bc",
   "metadata": {},
   "outputs": [
    {
     "data": {
      "text/plain": [
       "'n'"
      ]
     },
     "execution_count": 25,
     "metadata": {},
     "output_type": "execute_result"
    }
   ],
   "source": [
    "s1[0]"
   ]
  },
  {
   "cell_type": "code",
   "execution_count": 27,
   "id": "30285539-137b-435b-9c6f-44f3163133ef",
   "metadata": {},
   "outputs": [
    {
     "data": {
      "text/plain": [
       "'t'"
      ]
     },
     "execution_count": 27,
     "metadata": {},
     "output_type": "execute_result"
    }
   ],
   "source": [
    "s1[-1]"
   ]
  },
  {
   "cell_type": "code",
   "execution_count": 31,
   "id": "77f75423-8792-4b37-866a-221de6dd7ce5",
   "metadata": {},
   "outputs": [
    {
     "name": "stdout",
     "output_type": "stream",
     "text": [
      "n\n",
      "i\n",
      "t\n"
     ]
    },
    {
     "data": {
      "text/plain": [
       "(None, None, None)"
      ]
     },
     "execution_count": 31,
     "metadata": {},
     "output_type": "execute_result"
    }
   ],
   "source": [
    "print(s1[0]),print(s1[1]),print(s1[2])"
   ]
  },
  {
   "cell_type": "code",
   "execution_count": null,
   "id": "47d14e6e-271e-483c-96cd-1e7e5acc1b5a",
   "metadata": {},
   "outputs": [],
   "source": [
    "# slicing operation"
   ]
  },
  {
   "cell_type": "code",
   "execution_count": 33,
   "id": "22a401b5-8c65-4bfa-a2d2-27836283baa3",
   "metadata": {},
   "outputs": [
    {
     "data": {
      "text/plain": [
       "'Data Analyst'"
      ]
     },
     "execution_count": 33,
     "metadata": {},
     "output_type": "execute_result"
    }
   ],
   "source": [
    "s2 = \"Data Analyst\"\n",
    "s2"
   ]
  },
  {
   "cell_type": "code",
   "execution_count": 35,
   "id": "56ad787e-cc79-490a-8ac7-3b965368ccf4",
   "metadata": {},
   "outputs": [
    {
     "data": {
      "text/plain": [
       "'ata'"
      ]
     },
     "execution_count": 35,
     "metadata": {},
     "output_type": "execute_result"
    }
   ],
   "source": [
    "s2[1:4]"
   ]
  },
  {
   "cell_type": "code",
   "execution_count": 37,
   "id": "7646b9a7-2363-4e31-83b1-13ca63ed60d8",
   "metadata": {},
   "outputs": [
    {
     "data": {
      "text/plain": [
       "'ta Analy'"
      ]
     },
     "execution_count": 37,
     "metadata": {},
     "output_type": "execute_result"
    }
   ],
   "source": [
    "s2[2:-2]"
   ]
  },
  {
   "cell_type": "code",
   "execution_count": 39,
   "id": "2f00c5b9-e699-4526-9d23-27f5346dd53a",
   "metadata": {},
   "outputs": [
    {
     "data": {
      "text/plain": [
       "'Data '"
      ]
     },
     "execution_count": 39,
     "metadata": {},
     "output_type": "execute_result"
    }
   ],
   "source": [
    "s2[0:5]"
   ]
  },
  {
   "cell_type": "code",
   "execution_count": 41,
   "id": "51241d42-653a-4bc5-8b42-f3366a32e031",
   "metadata": {},
   "outputs": [
    {
     "data": {
      "text/plain": [
       "'a Anal'"
      ]
     },
     "execution_count": 41,
     "metadata": {},
     "output_type": "execute_result"
    }
   ],
   "source": [
    "s2[3:9]"
   ]
  },
  {
   "cell_type": "code",
   "execution_count": 43,
   "id": "eab1a307-51d4-4267-9061-f908dc292822",
   "metadata": {},
   "outputs": [
    {
     "data": {
      "text/plain": [
       "'Data Analys'"
      ]
     },
     "execution_count": 43,
     "metadata": {},
     "output_type": "execute_result"
    }
   ],
   "source": [
    "s2[0:11]"
   ]
  },
  {
   "cell_type": "code",
   "execution_count": 45,
   "id": "db579d02-328d-43af-9430-aa204a58ac2c",
   "metadata": {},
   "outputs": [
    {
     "data": {
      "text/plain": [
       "'tAlt'"
      ]
     },
     "execution_count": 45,
     "metadata": {},
     "output_type": "execute_result"
    }
   ],
   "source": [
    "s2[2:12:3]"
   ]
  },
  {
   "cell_type": "code",
   "execution_count": 47,
   "id": "baee2367-2cc7-4ae2-bc71-904cbccbf8a9",
   "metadata": {},
   "outputs": [
    {
     "data": {
      "text/plain": [
       "'Dt nls'"
      ]
     },
     "execution_count": 47,
     "metadata": {},
     "output_type": "execute_result"
    }
   ],
   "source": [
    "s2[0:11:2]"
   ]
  },
  {
   "cell_type": "code",
   "execution_count": null,
   "id": "7cd18e4e-eea8-4014-b9bd-1ff5bee2d3c5",
   "metadata": {},
   "outputs": [],
   "source": [
    "# forward and backward slicing"
   ]
  },
  {
   "cell_type": "code",
   "execution_count": 49,
   "id": "2c25172c-0c16-413d-8a17-3e22e4922163",
   "metadata": {},
   "outputs": [
    {
     "data": {
      "text/plain": [
       "'ta Anal'"
      ]
     },
     "execution_count": 49,
     "metadata": {},
     "output_type": "execute_result"
    }
   ],
   "source": [
    "s2[2:-3]"
   ]
  },
  {
   "cell_type": "code",
   "execution_count": 51,
   "id": "348861ad-133f-4618-a104-0847c377373f",
   "metadata": {},
   "outputs": [
    {
     "data": {
      "text/plain": [
       "'Data'"
      ]
     },
     "execution_count": 51,
     "metadata": {},
     "output_type": "execute_result"
    }
   ],
   "source": [
    "s2[:4]"
   ]
  },
  {
   "cell_type": "code",
   "execution_count": 53,
   "id": "24938e7d-c0ca-42d0-a83a-aec896b3966d",
   "metadata": {},
   "outputs": [
    {
     "data": {
      "text/plain": [
       "' Analyst'"
      ]
     },
     "execution_count": 53,
     "metadata": {},
     "output_type": "execute_result"
    }
   ],
   "source": [
    "s2[4:]"
   ]
  },
  {
   "cell_type": "code",
   "execution_count": 55,
   "id": "5d75ac23-5e63-469c-8646-775a8490a55a",
   "metadata": {},
   "outputs": [
    {
     "data": {
      "text/plain": [
       "'tlAt'"
      ]
     },
     "execution_count": 55,
     "metadata": {},
     "output_type": "execute_result"
    }
   ],
   "source": [
    "s2[::-3]"
   ]
  },
  {
   "cell_type": "code",
   "execution_count": 57,
   "id": "00bc62da-7f2a-42f0-9194-56c1d25ccb52",
   "metadata": {},
   "outputs": [
    {
     "data": {
      "text/plain": [
       "'lyst'"
      ]
     },
     "execution_count": 57,
     "metadata": {},
     "output_type": "execute_result"
    }
   ],
   "source": [
    "s2[-4:]"
   ]
  },
  {
   "cell_type": "code",
   "execution_count": 59,
   "id": "a53da333-fbe1-4e79-b70a-6ad7423d17e3",
   "metadata": {},
   "outputs": [
    {
     "data": {
      "text/plain": [
       "'Data Analyst'"
      ]
     },
     "execution_count": 59,
     "metadata": {},
     "output_type": "execute_result"
    }
   ],
   "source": [
    "s2[:]"
   ]
  },
  {
   "cell_type": "code",
   "execution_count": 61,
   "id": "814ac150-6d92-4c51-87da-96aa7764d459",
   "metadata": {},
   "outputs": [
    {
     "data": {
      "text/plain": [
       "'a A'"
      ]
     },
     "execution_count": 61,
     "metadata": {},
     "output_type": "execute_result"
    }
   ],
   "source": [
    "s2[3:6]"
   ]
  },
  {
   "cell_type": "code",
   "execution_count": 63,
   "id": "f92faf49-011e-491a-8a42-762ce8f046eb",
   "metadata": {},
   "outputs": [
    {
     "data": {
      "text/plain": [
       "'Analyst'"
      ]
     },
     "execution_count": 63,
     "metadata": {},
     "output_type": "execute_result"
    }
   ],
   "source": [
    "s2[-7:]"
   ]
  },
  {
   "cell_type": "code",
   "execution_count": 65,
   "id": "90d06f4c-26d4-437a-8120-25e55f16bab6",
   "metadata": {},
   "outputs": [
    {
     "data": {
      "text/plain": [
       "'Data '"
      ]
     },
     "execution_count": 65,
     "metadata": {},
     "output_type": "execute_result"
    }
   ],
   "source": [
    "s2[0:5]"
   ]
  },
  {
   "cell_type": "code",
   "execution_count": null,
   "id": "d0cbb517-cb17-49f0-a75c-dd7c6471a6e7",
   "metadata": {},
   "outputs": [],
   "source": [
    "# Type casting"
   ]
  },
  {
   "cell_type": "code",
   "execution_count": null,
   "id": "c9d68620-df57-41c5-985b-aad95b3eafaa",
   "metadata": {},
   "outputs": [],
   "source": [
    "Converting data type into another data type"
   ]
  },
  {
   "cell_type": "code",
   "execution_count": null,
   "id": "8ccaaa02-1a7f-4d8a-bb54-1287f215ef88",
   "metadata": {},
   "outputs": [],
   "source": [
    "1. integer- converts float,boolean and string (only if string is a number) but does not convert into string and if string is a word it does not accept\n",
    "2. Float - converts int, boolean \n",
    "3. Boolean - converts into all data types\n",
    "4. complex - converts into int, float,boolean\n",
    "5. string - converts into all data types"
   ]
  },
  {
   "cell_type": "code",
   "execution_count": null,
   "id": "54406d49-f8a8-4448-9dcf-7b9e8928d4f9",
   "metadata": {},
   "outputs": [],
   "source": [
    "# integer"
   ]
  },
  {
   "cell_type": "code",
   "execution_count": 67,
   "id": "db6fa7ad-3083-436e-b504-6179ccff6032",
   "metadata": {},
   "outputs": [
    {
     "data": {
      "text/plain": [
       "4"
      ]
     },
     "execution_count": 67,
     "metadata": {},
     "output_type": "execute_result"
    }
   ],
   "source": [
    "int(4.9)"
   ]
  },
  {
   "cell_type": "code",
   "execution_count": 69,
   "id": "c9a2df99-5f6e-44d9-96b2-b0749bfe05c4",
   "metadata": {},
   "outputs": [
    {
     "ename": "TypeError",
     "evalue": "int() argument must be a string, a bytes-like object or a real number, not 'complex'",
     "output_type": "error",
     "traceback": [
      "\u001b[1;31m---------------------------------------------------------------------------\u001b[0m",
      "\u001b[1;31mTypeError\u001b[0m                                 Traceback (most recent call last)",
      "Cell \u001b[1;32mIn[69], line 1\u001b[0m\n\u001b[1;32m----> 1\u001b[0m \u001b[38;5;28mint\u001b[39m(\u001b[38;5;241m4\u001b[39m\u001b[38;5;241m+\u001b[39m\u001b[38;5;241m3\u001b[39mj)\n",
      "\u001b[1;31mTypeError\u001b[0m: int() argument must be a string, a bytes-like object or a real number, not 'complex'"
     ]
    }
   ],
   "source": [
    "int(4+3j) # complex does not convert into integer "
   ]
  },
  {
   "cell_type": "code",
   "execution_count": 71,
   "id": "3d36f4d6-e090-426b-b072-28bf1623026b",
   "metadata": {},
   "outputs": [
    {
     "ename": "ValueError",
     "evalue": "invalid literal for int() with base 10: 'nit'",
     "output_type": "error",
     "traceback": [
      "\u001b[1;31m---------------------------------------------------------------------------\u001b[0m",
      "\u001b[1;31mValueError\u001b[0m                                Traceback (most recent call last)",
      "Cell \u001b[1;32mIn[71], line 1\u001b[0m\n\u001b[1;32m----> 1\u001b[0m \u001b[38;5;28mint\u001b[39m(\u001b[38;5;124m'\u001b[39m\u001b[38;5;124mnit\u001b[39m\u001b[38;5;124m'\u001b[39m)\n",
      "\u001b[1;31mValueError\u001b[0m: invalid literal for int() with base 10: 'nit'"
     ]
    }
   ],
   "source": [
    "int('nit') # string into int does not work"
   ]
  },
  {
   "cell_type": "code",
   "execution_count": 73,
   "id": "0750b0ae-bb38-4a1d-9bd9-b90573629160",
   "metadata": {},
   "outputs": [
    {
     "data": {
      "text/plain": [
       "1"
      ]
     },
     "execution_count": 73,
     "metadata": {},
     "output_type": "execute_result"
    }
   ],
   "source": [
    "int(True)"
   ]
  },
  {
   "cell_type": "code",
   "execution_count": 75,
   "id": "048137ab-7c68-4d47-b060-e4613ca73022",
   "metadata": {},
   "outputs": [
    {
     "data": {
      "text/plain": [
       "0"
      ]
     },
     "execution_count": 75,
     "metadata": {},
     "output_type": "execute_result"
    }
   ],
   "source": [
    "int(False)"
   ]
  },
  {
   "cell_type": "code",
   "execution_count": 77,
   "id": "e3fbb407-cf0c-457d-9521-0f26f779743a",
   "metadata": {},
   "outputs": [
    {
     "data": {
      "text/plain": [
       "100"
      ]
     },
     "execution_count": 77,
     "metadata": {},
     "output_type": "execute_result"
    }
   ],
   "source": [
    "int('100')"
   ]
  },
  {
   "cell_type": "code",
   "execution_count": null,
   "id": "13f0817c-26b7-4b10-b5fe-5c1a3ba90d4a",
   "metadata": {},
   "outputs": [],
   "source": [
    "# float"
   ]
  },
  {
   "cell_type": "code",
   "execution_count": 79,
   "id": "d652c85d-a03b-4c3e-b6f4-588baf75eef1",
   "metadata": {},
   "outputs": [
    {
     "data": {
      "text/plain": [
       "6.0"
      ]
     },
     "execution_count": 79,
     "metadata": {},
     "output_type": "execute_result"
    }
   ],
   "source": [
    "float(6)"
   ]
  },
  {
   "cell_type": "code",
   "execution_count": 81,
   "id": "0aa8c98b-9732-4fde-854f-b7ee54854f74",
   "metadata": {},
   "outputs": [
    {
     "data": {
      "text/plain": [
       "1.0"
      ]
     },
     "execution_count": 81,
     "metadata": {},
     "output_type": "execute_result"
    }
   ],
   "source": [
    "float(True)"
   ]
  },
  {
   "cell_type": "code",
   "execution_count": 83,
   "id": "2b6cb21d-f263-4fb0-a8ef-d3fb708f9e22",
   "metadata": {},
   "outputs": [
    {
     "data": {
      "text/plain": [
       "0.0"
      ]
     },
     "execution_count": 83,
     "metadata": {},
     "output_type": "execute_result"
    }
   ],
   "source": [
    "float(False)"
   ]
  },
  {
   "cell_type": "code",
   "execution_count": 85,
   "id": "a7937a39-aa38-41c2-8cd2-cab5b5e5e834",
   "metadata": {},
   "outputs": [
    {
     "ename": "ValueError",
     "evalue": "could not convert string to float: 'hello python'",
     "output_type": "error",
     "traceback": [
      "\u001b[1;31m---------------------------------------------------------------------------\u001b[0m",
      "\u001b[1;31mValueError\u001b[0m                                Traceback (most recent call last)",
      "Cell \u001b[1;32mIn[85], line 1\u001b[0m\n\u001b[1;32m----> 1\u001b[0m \u001b[38;5;28mfloat\u001b[39m(\u001b[38;5;124m'\u001b[39m\u001b[38;5;124mhello python\u001b[39m\u001b[38;5;124m'\u001b[39m)\n",
      "\u001b[1;31mValueError\u001b[0m: could not convert string to float: 'hello python'"
     ]
    }
   ],
   "source": [
    "float('hello python') # string into float does not accept"
   ]
  },
  {
   "cell_type": "code",
   "execution_count": 87,
   "id": "e02c9421-f7a6-4e5d-a9dc-c8b8acbf30be",
   "metadata": {},
   "outputs": [
    {
     "data": {
      "text/plain": [
       "10.0"
      ]
     },
     "execution_count": 87,
     "metadata": {},
     "output_type": "execute_result"
    }
   ],
   "source": [
    "float('10')"
   ]
  },
  {
   "cell_type": "code",
   "execution_count": null,
   "id": "6335ef06-c594-4e0f-a484-cac47e696162",
   "metadata": {},
   "outputs": [],
   "source": [
    "# BOOLEAN"
   ]
  },
  {
   "cell_type": "code",
   "execution_count": 89,
   "id": "f3cd0816-7ccf-4760-b79d-5fc8941505d2",
   "metadata": {},
   "outputs": [
    {
     "data": {
      "text/plain": [
       "True"
      ]
     },
     "execution_count": 89,
     "metadata": {},
     "output_type": "execute_result"
    }
   ],
   "source": [
    "bool(2)"
   ]
  },
  {
   "cell_type": "code",
   "execution_count": 91,
   "id": "29ca89e1-35dc-4b9d-baef-d28caf71e644",
   "metadata": {},
   "outputs": [
    {
     "data": {
      "text/plain": [
       "True"
      ]
     },
     "execution_count": 91,
     "metadata": {},
     "output_type": "execute_result"
    }
   ],
   "source": [
    "bool(1)"
   ]
  },
  {
   "cell_type": "code",
   "execution_count": 93,
   "id": "6e41c7cf-3a3a-45fa-883b-d1e57b739e56",
   "metadata": {},
   "outputs": [
    {
     "data": {
      "text/plain": [
       "False"
      ]
     },
     "execution_count": 93,
     "metadata": {},
     "output_type": "execute_result"
    }
   ],
   "source": [
    "bool(0)"
   ]
  },
  {
   "cell_type": "code",
   "execution_count": 95,
   "id": "932c0fc1-f6f1-41fb-a949-f415505a63ea",
   "metadata": {},
   "outputs": [
    {
     "data": {
      "text/plain": [
       "True"
      ]
     },
     "execution_count": 95,
     "metadata": {},
     "output_type": "execute_result"
    }
   ],
   "source": [
    "bool('hello')"
   ]
  },
  {
   "cell_type": "code",
   "execution_count": 97,
   "id": "a837d23c-5454-4aa4-9612-a7c1492052ad",
   "metadata": {},
   "outputs": [
    {
     "data": {
      "text/plain": [
       "True"
      ]
     },
     "execution_count": 97,
     "metadata": {},
     "output_type": "execute_result"
    }
   ],
   "source": [
    "bool(3.4)"
   ]
  },
  {
   "cell_type": "code",
   "execution_count": 99,
   "id": "8e6da37d-dfa3-4da8-b3a1-bb1fb5a77563",
   "metadata": {},
   "outputs": [
    {
     "data": {
      "text/plain": [
       "True"
      ]
     },
     "execution_count": 99,
     "metadata": {},
     "output_type": "execute_result"
    }
   ],
   "source": [
    "bool(2+4j)"
   ]
  },
  {
   "cell_type": "code",
   "execution_count": 101,
   "id": "d5d1bbd7-118a-4a74-b653-8601e73622d5",
   "metadata": {},
   "outputs": [
    {
     "data": {
      "text/plain": [
       "False"
      ]
     },
     "execution_count": 101,
     "metadata": {},
     "output_type": "execute_result"
    }
   ],
   "source": [
    "bool()"
   ]
  },
  {
   "cell_type": "code",
   "execution_count": null,
   "id": "a22d6ccf-0173-4fb6-9375-3fedac7c8346",
   "metadata": {},
   "outputs": [],
   "source": [
    "# complex"
   ]
  },
  {
   "cell_type": "code",
   "execution_count": 103,
   "id": "2853167e-802b-4bf8-80b5-b88c4c2b969b",
   "metadata": {},
   "outputs": [
    {
     "data": {
      "text/plain": [
       "(2+0j)"
      ]
     },
     "execution_count": 103,
     "metadata": {},
     "output_type": "execute_result"
    }
   ],
   "source": [
    "complex(2)"
   ]
  },
  {
   "cell_type": "code",
   "execution_count": 105,
   "id": "563b5d55-a730-458a-abad-ce0920174bc3",
   "metadata": {},
   "outputs": [
    {
     "data": {
      "text/plain": [
       "0j"
      ]
     },
     "execution_count": 105,
     "metadata": {},
     "output_type": "execute_result"
    }
   ],
   "source": [
    "complex(False)"
   ]
  },
  {
   "cell_type": "code",
   "execution_count": 107,
   "id": "c5a95bfe-bb69-4d86-847e-cfde78947884",
   "metadata": {},
   "outputs": [
    {
     "data": {
      "text/plain": [
       "(1+0j)"
      ]
     },
     "execution_count": 107,
     "metadata": {},
     "output_type": "execute_result"
    }
   ],
   "source": [
    "complex(True)"
   ]
  },
  {
   "cell_type": "code",
   "execution_count": 109,
   "id": "005d427b-80c1-48bd-b34a-304ec9656cba",
   "metadata": {},
   "outputs": [
    {
     "ename": "ValueError",
     "evalue": "complex() arg is a malformed string",
     "output_type": "error",
     "traceback": [
      "\u001b[1;31m---------------------------------------------------------------------------\u001b[0m",
      "\u001b[1;31mValueError\u001b[0m                                Traceback (most recent call last)",
      "Cell \u001b[1;32mIn[109], line 1\u001b[0m\n\u001b[1;32m----> 1\u001b[0m \u001b[38;5;28mcomplex\u001b[39m(\u001b[38;5;124m'\u001b[39m\u001b[38;5;124mpython\u001b[39m\u001b[38;5;124m'\u001b[39m)\n",
      "\u001b[1;31mValueError\u001b[0m: complex() arg is a malformed string"
     ]
    }
   ],
   "source": [
    "complex('python') # string into complex does not support"
   ]
  },
  {
   "cell_type": "code",
   "execution_count": 111,
   "id": "d942d5f5-3293-4d16-b074-c2eb18a08e58",
   "metadata": {},
   "outputs": [
    {
     "data": {
      "text/plain": [
       "(4.5+0j)"
      ]
     },
     "execution_count": 111,
     "metadata": {},
     "output_type": "execute_result"
    }
   ],
   "source": [
    "complex(4.5)"
   ]
  },
  {
   "cell_type": "code",
   "execution_count": 113,
   "id": "bb5fabe5-8526-48d0-b81d-b2ee382c5e68",
   "metadata": {},
   "outputs": [
    {
     "data": {
      "text/plain": [
       "(2+8j)"
      ]
     },
     "execution_count": 113,
     "metadata": {},
     "output_type": "execute_result"
    }
   ],
   "source": [
    "complex(2,8)"
   ]
  },
  {
   "cell_type": "code",
   "execution_count": 115,
   "id": "ac984d74-98da-4db6-b1b3-450f81cfbcdf",
   "metadata": {},
   "outputs": [
    {
     "data": {
      "text/plain": [
       "(3+4.8j)"
      ]
     },
     "execution_count": 115,
     "metadata": {},
     "output_type": "execute_result"
    }
   ],
   "source": [
    "complex(3,4.8)"
   ]
  },
  {
   "cell_type": "code",
   "execution_count": null,
   "id": "dfc3855c-8fe5-4e84-b130-872067d35d4e",
   "metadata": {},
   "outputs": [],
   "source": [
    "# string "
   ]
  },
  {
   "cell_type": "code",
   "execution_count": 117,
   "id": "6e64a387-cc82-45ad-af7f-fd5f619e028c",
   "metadata": {},
   "outputs": [
    {
     "data": {
      "text/plain": [
       "'1'"
      ]
     },
     "execution_count": 117,
     "metadata": {},
     "output_type": "execute_result"
    }
   ],
   "source": [
    "str(1)"
   ]
  },
  {
   "cell_type": "code",
   "execution_count": 119,
   "id": "27c25f93-3395-4033-b6a0-f7928e5446c0",
   "metadata": {},
   "outputs": [
    {
     "data": {
      "text/plain": [
       "'hello'"
      ]
     },
     "execution_count": 119,
     "metadata": {},
     "output_type": "execute_result"
    }
   ],
   "source": [
    "str('hello')"
   ]
  },
  {
   "cell_type": "code",
   "execution_count": 121,
   "id": "b9b09eb3-1e96-4941-bdcf-e6a21f6fdf9d",
   "metadata": {},
   "outputs": [
    {
     "data": {
      "text/plain": [
       "'True'"
      ]
     },
     "execution_count": 121,
     "metadata": {},
     "output_type": "execute_result"
    }
   ],
   "source": [
    "str(True)"
   ]
  },
  {
   "cell_type": "code",
   "execution_count": 123,
   "id": "075d24f4-87e5-4bdd-b710-f9b63406d72a",
   "metadata": {},
   "outputs": [
    {
     "data": {
      "text/plain": [
       "'False'"
      ]
     },
     "execution_count": 123,
     "metadata": {},
     "output_type": "execute_result"
    }
   ],
   "source": [
    "str(False)"
   ]
  },
  {
   "cell_type": "code",
   "execution_count": 125,
   "id": "7184c8a3-cf53-4a95-896e-374e3f8e86e5",
   "metadata": {},
   "outputs": [
    {
     "data": {
      "text/plain": [
       "'4.9'"
      ]
     },
     "execution_count": 125,
     "metadata": {},
     "output_type": "execute_result"
    }
   ],
   "source": [
    "str(4.9)"
   ]
  },
  {
   "cell_type": "code",
   "execution_count": 127,
   "id": "c79474f9-05d0-472e-8a09-bd4834e080ea",
   "metadata": {},
   "outputs": [
    {
     "data": {
      "text/plain": [
       "'(4+5j)'"
      ]
     },
     "execution_count": 127,
     "metadata": {},
     "output_type": "execute_result"
    }
   ],
   "source": [
    "str(4+5j)"
   ]
  },
  {
   "cell_type": "code",
   "execution_count": null,
   "id": "48b46d20-317b-45d4-af71-33b55a1dd890",
   "metadata": {},
   "outputs": [],
   "source": []
  }
 ],
 "metadata": {
  "kernelspec": {
   "display_name": "Python 3 (ipykernel)",
   "language": "python",
   "name": "python3"
  },
  "language_info": {
   "codemirror_mode": {
    "name": "ipython",
    "version": 3
   },
   "file_extension": ".py",
   "mimetype": "text/x-python",
   "name": "python",
   "nbconvert_exporter": "python",
   "pygments_lexer": "ipython3",
   "version": "3.12.7"
  }
 },
 "nbformat": 4,
 "nbformat_minor": 5
}
