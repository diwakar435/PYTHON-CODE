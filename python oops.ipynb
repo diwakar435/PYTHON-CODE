{
 "cells": [
  {
   "cell_type": "code",
   "execution_count": 1,
   "id": "27be051f-b5ae-4157-b9d6-7a4ed5c0e2ab",
   "metadata": {},
   "outputs": [
    {
     "name": "stdout",
     "output_type": "stream",
     "text": [
      "<class 'int'>\n"
     ]
    }
   ],
   "source": [
    "a = 5\n",
    "print(type(a))"
   ]
  },
  {
   "cell_type": "code",
   "execution_count": 2,
   "id": "774fead8-f40b-4856-9daa-3c5dd9f5a6ad",
   "metadata": {},
   "outputs": [
    {
     "name": "stdout",
     "output_type": "stream",
     "text": [
      "<class 'list'>\n"
     ]
    }
   ],
   "source": [
    "a1 = [5,3]\n",
    "print(type(a1))"
   ]
  },
  {
   "cell_type": "code",
   "execution_count": 3,
   "id": "5c605125-f438-4de8-8515-dc5fe5fd2ad7",
   "metadata": {},
   "outputs": [
    {
     "data": {
      "text/plain": [
       "<__main__.computer at 0x26a71023080>"
      ]
     },
     "execution_count": 3,
     "metadata": {},
     "output_type": "execute_result"
    }
   ],
   "source": [
    "class computer:   # computer is the class \n",
    "    def config():  # config is the method \n",
    "        print('i5','8gb')\n",
    "com1 = computer()\n",
    "com1"
   ]
  },
  {
   "cell_type": "code",
   "execution_count": 5,
   "id": "ab2b8256-16c6-42a2-9999-8955d2af510d",
   "metadata": {},
   "outputs": [
    {
     "name": "stdout",
     "output_type": "stream",
     "text": [
      "i5 8gb\n"
     ]
    }
   ],
   "source": [
    "class computer:\n",
    "    def config():\n",
    "        print('i5','8gb')\n",
    "com1 = computer()\n",
    "computer.config()"
   ]
  },
  {
   "cell_type": "code",
   "execution_count": 6,
   "id": "ded21909-a4b3-438d-9d7a-ddcc867aa92a",
   "metadata": {},
   "outputs": [
    {
     "name": "stdout",
     "output_type": "stream",
     "text": [
      "i5 8gb\n"
     ]
    }
   ],
   "source": [
    "class computer:\n",
    "    def config(self):\n",
    "        print('i5','8gb')\n",
    "\n",
    "com1 = computer()\n",
    "com1.config()"
   ]
  },
  {
   "cell_type": "code",
   "execution_count": 8,
   "id": "2787b836-c386-41b7-aebc-b0c52299a607",
   "metadata": {},
   "outputs": [
    {
     "name": "stdout",
     "output_type": "stream",
     "text": [
      "i5 8gb\n",
      "i5 8gb\n",
      "i5 8gb\n"
     ]
    }
   ],
   "source": [
    "class computer:\n",
    "    def config(self):\n",
    "        print('i5','8gb')\n",
    "\n",
    "com1 = computer()\n",
    "com2 = computer()\n",
    "com3 = computer()\n",
    "\n",
    "com1.config()\n",
    "com2.config()\n",
    "com3.config()"
   ]
  },
  {
   "cell_type": "code",
   "execution_count": 9,
   "id": "e1eb1758-590e-48e9-9650-a8a0a35b7c41",
   "metadata": {},
   "outputs": [
    {
     "name": "stdout",
     "output_type": "stream",
     "text": [
      "i5 8gb\n",
      "i5 8gb\n",
      "i5 8gb\n",
      "2656186484880\n",
      "2656189414720\n",
      "2656189402672\n"
     ]
    }
   ],
   "source": [
    "class computer:\n",
    "    def config(self):\n",
    "        print('i5','8gb')\n",
    "\n",
    "com1 = computer()\n",
    "com2 = computer()\n",
    "com3 = computer()\n",
    "\n",
    "com1.config()\n",
    "com2.config()\n",
    "com3.config()\n",
    "\n",
    "print(id(com1))\n",
    "print(id(com2))\n",
    "print(id(com3))"
   ]
  },
  {
   "cell_type": "code",
   "execution_count": 13,
   "id": "7dfe8aec-17d3-463e-bfef-846248dcaf94",
   "metadata": {},
   "outputs": [
    {
     "name": "stdout",
     "output_type": "stream",
     "text": [
      "i5 8gb\n",
      "i7 16gb\n"
     ]
    }
   ],
   "source": [
    "class computer:   # computer is the class \n",
    "    def __init__(self):  # config is the method  ,__init__ is the special method \n",
    "        print('i5','8gb')\n",
    "    def config(self):\n",
    "        print('i7','16gb')\n",
    "\n",
    "com1 = computer()\n",
    "com1.config()"
   ]
  },
  {
   "cell_type": "code",
   "execution_count": 18,
   "id": "e1fdba9c-cdf4-46a8-bf85-7f704eaa6c37",
   "metadata": {},
   "outputs": [
    {
     "name": "stdout",
     "output_type": "stream",
     "text": [
      "i7 16gb\n",
      "i7 16gb\n"
     ]
    }
   ],
   "source": [
    "class computer:\n",
    "    def __init__(self):\n",
    "        print('i7','16gb')\n",
    "\n",
    "com1 = computer()\n",
    "\n",
    "com1.__init__()\n",
    "#com1.__init__()"
   ]
  },
  {
   "cell_type": "code",
   "execution_count": 19,
   "id": "938a299c-cc91-42b2-9514-5cc72dce5968",
   "metadata": {},
   "outputs": [
    {
     "name": "stdout",
     "output_type": "stream",
     "text": [
      "i7 16gb\n",
      "i7 16gb\n",
      "i7 16gb\n"
     ]
    }
   ],
   "source": [
    "class computer:\n",
    "    def __init__(self):\n",
    "        print('i7','16gb')\n",
    "\n",
    "com1 = computer()\n",
    "\n",
    "com1.__init__()\n",
    "com1.__init__()"
   ]
  },
  {
   "cell_type": "code",
   "execution_count": 21,
   "id": "852ccf47-2002-4046-b34e-d83845acda08",
   "metadata": {},
   "outputs": [
    {
     "name": "stdout",
     "output_type": "stream",
     "text": [
      "i7 16gb\n",
      "i7 16gb\n",
      "i7 16gb\n"
     ]
    }
   ],
   "source": [
    "class computer:\n",
    "    def __init__(self): # __init__ means initialize the variable\n",
    "        print('i7','16gb')\n",
    "\n",
    "com1 = computer()\n",
    "com2 = computer()\n",
    "com3 = computer()"
   ]
  },
  {
   "cell_type": "code",
   "execution_count": 27,
   "id": "8fb344c5-2f3f-4af9-accd-ab208293676b",
   "metadata": {},
   "outputs": [
    {
     "name": "stdout",
     "output_type": "stream",
     "text": [
      "init\n",
      "init\n",
      "i7 16gb\n",
      "i7 16gb\n"
     ]
    }
   ],
   "source": [
    "class computer:\n",
    "    def __init__(self):\n",
    "        print('init')\n",
    "    def config(self):\n",
    "        print('i7','16gb')\n",
    "        \n",
    "c1 = computer()\n",
    "c2 = computer()\n",
    "\n",
    "c1.config()\n",
    "c2.config()\n",
    "\n",
    "        "
   ]
  },
  {
   "cell_type": "code",
   "execution_count": 30,
   "id": "31082fb8-bb66-4c71-a9e9-380a2183f463",
   "metadata": {},
   "outputs": [
    {
     "name": "stdout",
     "output_type": "stream",
     "text": [
      "config is: i5 8gb\n",
      "config is: i7 16gb\n"
     ]
    }
   ],
   "source": [
    "class computer:\n",
    "    def __init__(self,cpu,ram): # cpu & ram is the argument\n",
    "        self.cpu = cpu    # self is the object & we need to refer the object\n",
    "        self.ram = ram\n",
    "    def config(self):\n",
    "        print('config is:',self.cpu,self.ram)\n",
    "\n",
    "com1 = computer('i5','8gb')\n",
    "com2 = computer('i7','16gb')\n",
    "\n",
    "com1.config()\n",
    "com2.config()"
   ]
  },
  {
   "cell_type": "code",
   "execution_count": 31,
   "id": "7b1e0767-6caf-49d4-b5ed-be5234056286",
   "metadata": {},
   "outputs": [
    {
     "name": "stdout",
     "output_type": "stream",
     "text": [
      "config is: i5 8gb\n",
      "config is: i7 16gb\n",
      "2656201433424\n",
      "2656201429824\n"
     ]
    }
   ],
   "source": [
    "class computer:\n",
    "    def __init__(self,cpu,ram): # cpu & ram is the argument\n",
    "        self.cpu = cpu    # self is the object & we need to refer the object\n",
    "        self.ram = ram\n",
    "    def config(self):\n",
    "        print('config is:',self.cpu,self.ram)\n",
    "\n",
    "com1 = computer('i5','8gb')\n",
    "com2 = computer('i7','16gb')\n",
    "\n",
    "com1.config()\n",
    "com2.config()\n",
    "\n",
    "print(id(com1))\n",
    "print(id(com2))"
   ]
  },
  {
   "cell_type": "code",
   "execution_count": 33,
   "id": "cf749ea2-f4a7-4184-aafd-11323fc0a8a0",
   "metadata": {},
   "outputs": [
    {
     "name": "stdout",
     "output_type": "stream",
     "text": [
      "config is: i5 8gb 256 40000\n",
      "config is: i7 16gb 512 25000\n"
     ]
    }
   ],
   "source": [
    "class computer:\n",
    "    def __init__(self,cpu,ram,memory,price): # cpu & ram is the argument\n",
    "        self.cpu = cpu    # self is the object & we need to refer the object\n",
    "        self.ram = ram\n",
    "        self.memory = memory\n",
    "        self.price = price\n",
    "    def config(self):\n",
    "        print('config is:',self.cpu,self.ram,self.memory,self.price)\n",
    "\n",
    "com1 = computer('i5','8gb',256,40000)\n",
    "com2 = computer('i7','16gb',512,25000)\n",
    "\n",
    "com1.config()\n",
    "com2.config()"
   ]
  },
  {
   "cell_type": "code",
   "execution_count": null,
   "id": "4e12367b-b80b-417b-8a36-e648736337fa",
   "metadata": {},
   "outputs": [],
   "source": []
  }
 ],
 "metadata": {
  "kernelspec": {
   "display_name": "Python 3 (ipykernel)",
   "language": "python",
   "name": "python3"
  },
  "language_info": {
   "codemirror_mode": {
    "name": "ipython",
    "version": 3
   },
   "file_extension": ".py",
   "mimetype": "text/x-python",
   "name": "python",
   "nbconvert_exporter": "python",
   "pygments_lexer": "ipython3",
   "version": "3.12.7"
  }
 },
 "nbformat": 4,
 "nbformat_minor": 5
}
