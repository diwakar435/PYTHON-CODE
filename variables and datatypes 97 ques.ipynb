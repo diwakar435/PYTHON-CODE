{
 "cells": [
  {
   "cell_type": "markdown",
   "id": "30c8f2f3-84db-4c07-aa33-c41267c4a795",
   "metadata": {},
   "source": [
    "# Variable and datatypes 97 Ques"
   ]
  },
  {
   "cell_type": "code",
   "execution_count": null,
   "id": "a78666c8-140a-4c5b-899b-717b41be1d6f",
   "metadata": {},
   "outputs": [],
   "source": [
    "1) What is a variable in Python?\n",
    "Ans: A location in memory to store the data.\n"
   ]
  },
  {
   "cell_type": "code",
   "execution_count": null,
   "id": "ac6b6295-2f10-45fa-b0df-35dbde7bab37",
   "metadata": {},
   "outputs": [],
   "source": [
    "2) How do you declare a variable in Python?\n",
    "Ans: x = 4"
   ]
  },
  {
   "cell_type": "code",
   "execution_count": 6,
   "id": "6f4bb2a7-1163-41ce-b6c6-409099f5de61",
   "metadata": {},
   "outputs": [],
   "source": [
    "3) What is the correct way to comment a single line in Python?\n",
    "Ans: # This is a comment"
   ]
  },
  {
   "cell_type": "code",
   "execution_count": null,
   "id": "f2946f6f-ae91-4075-a8c9-e03c075650fe",
   "metadata": {},
   "outputs": [],
   "source": [
    "4) Which of the following is a valid variable name in Python?\n",
    "Ans: my_variable"
   ]
  },
  {
   "cell_type": "code",
   "execution_count": null,
   "id": "a57bdbf9-4e69-4b3b-bd30-5b8fa5c99339",
   "metadata": {},
   "outputs": [],
   "source": [
    "5) How do you swap the values of two variables in Python without using a third variable?\n",
    "Ans: x,y = y,x"
   ]
  },
  {
   "cell_type": "code",
   "execution_count": null,
   "id": "af814723-01ef-4c6a-bc7d-246aa66172ba",
   "metadata": {},
   "outputs": [],
   "source": [
    "6) Which of the following data types is immutable in Python?\n",
    "Ans: Tuple"
   ]
  },
  {
   "cell_type": "code",
   "execution_count": 63,
   "id": "f64fe6bd-fcdc-48b1-a278-25a8a1062554",
   "metadata": {},
   "outputs": [
    {
     "name": "stdout",
     "output_type": "stream",
     "text": [
      "15\n"
     ]
    }
   ],
   "source": [
    "7)\n",
    "x = 10\n",
    "y = 5\n",
    "z = x + y\n",
    "print(z)\n"
   ]
  },
  {
   "cell_type": "code",
   "execution_count": null,
   "id": "56026cb0-7b90-457b-8b0c-13d857e1f279",
   "metadata": {},
   "outputs": [],
   "source": [
    "8) What does the type() function return in Python?\n",
    "Ans: The type of the variable"
   ]
  },
  {
   "cell_type": "code",
   "execution_count": null,
   "id": "f746950d-973a-4f24-acfc-b040d5ae2d11",
   "metadata": {},
   "outputs": [],
   "source": [
    "9) What is the scope of a global variable in Python?\n",
    "Ans: Limited to the function it is defined in"
   ]
  },
  {
   "cell_type": "code",
   "execution_count": null,
   "id": "58dfce69-5c29-4e4b-92b6-66cab56e5895",
   "metadata": {},
   "outputs": [],
   "source": [
    "10) How do you convert a string to an integer in Python?\n",
    "Ans: int(string)"
   ]
  },
  {
   "cell_type": "code",
   "execution_count": null,
   "id": "7f01f9d1-e4e3-47ec-b20f-e3baa3884f8a",
   "metadata": {},
   "outputs": [],
   "source": [
    "11) What is the correct way to check if a variable is of a specific type in Python?\n",
    "Ans: type(var) == \"int\""
   ]
  },
  {
   "cell_type": "code",
   "execution_count": 67,
   "id": "4ed3861c-bb4d-42f0-86b7-45543c86aba5",
   "metadata": {},
   "outputs": [
    {
     "name": "stdout",
     "output_type": "stream",
     "text": [
      "2\n"
     ]
    }
   ],
   "source": [
    "12)\n",
    "x = 5\n",
    "y = 2\n",
    "print(x // y)"
   ]
  },
  {
   "cell_type": "code",
   "execution_count": null,
   "id": "0a731991-50ba-4534-9712-7f70da5eaad1",
   "metadata": {},
   "outputs": [],
   "source": [
    "13) How do you concatenate two strings in Python?\n",
    "Ans: str1 + str2"
   ]
  },
  {
   "cell_type": "code",
   "execution_count": 69,
   "id": "f2038ea8-3522-40b3-bae4-56b8d17d6302",
   "metadata": {},
   "outputs": [
    {
     "name": "stdout",
     "output_type": "stream",
     "text": [
      "ell\n"
     ]
    }
   ],
   "source": [
    "14)\n",
    "x = \"Hello\"\n",
    "print(x[1:4])"
   ]
  },
  {
   "cell_type": "code",
   "execution_count": null,
   "id": "9d68a43f-2b80-471a-8e39-b38571cff6f8",
   "metadata": {},
   "outputs": [],
   "source": [
    "15) What is the purpose of the max() function in Python?\n",
    "Ans: To find the maximum value in a list"
   ]
  },
  {
   "cell_type": "code",
   "execution_count": null,
   "id": "17802e27-c418-440b-9a17-69fd5b3789b9",
   "metadata": {},
   "outputs": [],
   "source": [
    "16) How do you find the length of a list in Python?\n",
    "Ans: len(list)"
   ]
  },
  {
   "cell_type": "code",
   "execution_count": null,
   "id": "f43f6625-d1f5-4876-8635-3870df60b9ff",
   "metadata": {},
   "outputs": [],
   "source": [
    "17) How do you check if a key is present in a dictionary?\n",
    "Ans: key in dictionary"
   ]
  },
  {
   "cell_type": "code",
   "execution_count": null,
   "id": "02067d17-7759-495d-87c0-18659da72119",
   "metadata": {},
   "outputs": [],
   "source": [
    "18) What is the purpose of the enumerate() function in Python?\n",
    "Ans: To get the index and value of each item in an iterable"
   ]
  },
  {
   "cell_type": "code",
   "execution_count": 71,
   "id": "a1d9765f-9057-4e75-a82e-6d1923b6de4b",
   "metadata": {},
   "outputs": [
    {
     "name": "stdout",
     "output_type": "stream",
     "text": [
      "[2, 4]\n"
     ]
    }
   ],
   "source": [
    "19)\n",
    "x = [1, 2, 3, 4]\n",
    "y = filter(lambda a: a % 2 == 0, x)\n",
    "print(list(y))"
   ]
  },
  {
   "cell_type": "markdown",
   "id": "5048b2ff-7fe9-4b2d-89d4-97ab544bc67f",
   "metadata": {},
   "source": [
    " 20) How do you convert a list of strings to a single string in Python?\n",
    "Ans:\"\".join(list)"
   ]
  },
  {
   "cell_type": "code",
   "execution_count": null,
   "id": "538e4f82-92c5-4018-aef9-3ff265ecb154",
   "metadata": {},
   "outputs": [],
   "source": [
    "21) How do you find the length of a list in Python?\n",
    "Ans: len(list)"
   ]
  },
  {
   "cell_type": "code",
   "execution_count": null,
   "id": "5b0d9501-3552-469f-93df-56d13c9080f9",
   "metadata": {},
   "outputs": [],
   "source": [
    "22) How do you convert a floating-point number to an integer in Python?\n",
    "Ans: int(number)"
   ]
  },
  {
   "cell_type": "code",
   "execution_count": null,
   "id": "2ef25926-ed86-41d8-817e-19843d978bf3",
   "metadata": {},
   "outputs": [],
   "source": [
    "23) How do you create a multiline string in Python?\n",
    "Ans: \"\"\"This is a multiline string\"\"\""
   ]
  },
  {
   "cell_type": "code",
   "execution_count": null,
   "id": "d5083222-0e62-47f7-addd-43047e66990b",
   "metadata": {},
   "outputs": [],
   "source": [
    "24) How do you create a dictionary using a comprehension in Python?\n",
    "Ans:  {key: value for key, value in iterable}"
   ]
  },
  {
   "cell_type": "code",
   "execution_count": null,
   "id": "5960584c-4ec4-45ae-af1f-d0b94b67e1db",
   "metadata": {},
   "outputs": [],
   "source": [
    "25) What is the purpose of the __dict__ attribute in Python?\n",
    "Ans: To access the dictionary of a class or module "
   ]
  },
  {
   "cell_type": "code",
   "execution_count": null,
   "id": "a18caccd-8d4a-4e25-973b-a06908815f36",
   "metadata": {},
   "outputs": [],
   "source": [
    "26) Which of the following cannot be a Python variable name?\n",
    "Ans: var-2"
   ]
  },
  {
   "cell_type": "code",
   "execution_count": null,
   "id": "dc797606-1f6d-418c-bcd1-05c603c9955c",
   "metadata": {},
   "outputs": [],
   "source": [
    "27) Which of the following is not a Python Data Type?\n",
    "Ans: char"
   ]
  },
  {
   "cell_type": "code",
   "execution_count": 73,
   "id": "579faedb-1751-4085-9400-3dd2c6cfc4b6",
   "metadata": {},
   "outputs": [
    {
     "name": "stdout",
     "output_type": "stream",
     "text": [
      "<class 'dict'>\n"
     ]
    }
   ],
   "source": [
    "28)\n",
    " print(type({}))"
   ]
  },
  {
   "cell_type": "code",
   "execution_count": null,
   "id": "a2b26444-fe22-4356-90a2-7feca29424cb",
   "metadata": {},
   "outputs": [],
   "source": [
    "29) Which data type can be used to store the percentage obtained by a student?\n",
    "Ans: Float"
   ]
  },
  {
   "cell_type": "code",
   "execution_count": 59,
   "id": "6f35aa48-31be-4f2a-8c53-486815304287",
   "metadata": {},
   "outputs": [
    {
     "name": "stdout",
     "output_type": "stream",
     "text": [
      "{1: 'A', 2: 'E', 3: 'I', 4: 'O'}\n"
     ]
    }
   ],
   "source": [
    "30)\n",
    "dic = {1: 'A', 2: 'E', 3: 'I'}\n",
    "dic[4] = 'O'\n",
    "print(dic)\n"
   ]
  },
  {
   "cell_type": "code",
   "execution_count": 34,
   "id": "6b80fdf8-ee8b-4df4-a8b9-d8a44ba6b33c",
   "metadata": {},
   "outputs": [
    {
     "data": {
      "text/plain": [
       "<function list.pop(index=-1, /)>"
      ]
     },
     "execution_count": 34,
     "metadata": {},
     "output_type": "execute_result"
    }
   ],
   "source": [
    "31) What is the output of the following code?\n",
    "list1 = ['a', 'b', 'g', 1, 5]\n",
    "print(list1.pop)\n"
   ]
  },
  {
   "cell_type": "code",
   "execution_count": null,
   "id": "261431e2-909e-4607-a735-6ddd640cb4e6",
   "metadata": {},
   "outputs": [],
   "source": [
    "32) Which of the following operators is used to add elements at the end of a list?\n",
    "Ans: append()"
   ]
  },
  {
   "cell_type": "code",
   "execution_count": 38,
   "id": "373450ae-e9f3-478e-8ec5-388c20940910",
   "metadata": {},
   "outputs": [
    {
     "name": "stdout",
     "output_type": "stream",
     "text": [
      "True\n"
     ]
    }
   ],
   "source": [
    "33)\n",
    "var = 2\n",
    "print(2 == 2.0)"
   ]
  },
  {
   "cell_type": "code",
   "execution_count": 42,
   "id": "3e132a67-6b13-43f8-92d4-f808c3966c11",
   "metadata": {},
   "outputs": [
    {
     "name": "stdout",
     "output_type": "stream",
     "text": [
      "<class 'complex'>\n"
     ]
    }
   ],
   "source": [
    "34)\n",
    "num = 4 + 0j\n",
    "print(type(num))"
   ]
  },
  {
   "cell_type": "code",
   "execution_count": 44,
   "id": "fcf53cf5-3159-4adb-909c-35566722cd98",
   "metadata": {},
   "outputs": [
    {
     "name": "stdout",
     "output_type": "stream",
     "text": [
      "3\n"
     ]
    }
   ],
   "source": [
    "35)\n",
    "print(int(3.9))"
   ]
  },
  {
   "cell_type": "code",
   "execution_count": 46,
   "id": "ef22ee01-2c3c-4392-bfb1-89ee7a612a40",
   "metadata": {},
   "outputs": [
    {
     "name": "stdout",
     "output_type": "stream",
     "text": [
      "Python.py\n"
     ]
    }
   ],
   "source": [
    " 36)\n",
    "a = 'Python' + \".py\"\n",
    "print(a)\n"
   ]
  },
  {
   "cell_type": "code",
   "execution_count": null,
   "id": "d275da3f-d3b1-42cd-872a-0ecbcfed6f09",
   "metadata": {},
   "outputs": [],
   "source": [
    "37) In which of the following is indexing not allowed?\n",
    "Ans: Set"
   ]
  },
  {
   "cell_type": "code",
   "execution_count": 48,
   "id": "0aa6879c-be15-49b0-909c-acadb180768d",
   "metadata": {},
   "outputs": [
    {
     "name": "stdout",
     "output_type": "stream",
     "text": [
      "True "
     ]
    },
    {
     "ename": "ValueError",
     "evalue": "invalid literal for int() with base 10: '4.5'",
     "output_type": "error",
     "traceback": [
      "\u001b[1;31m---------------------------------------------------------------------------\u001b[0m",
      "\u001b[1;31mValueError\u001b[0m                                Traceback (most recent call last)",
      "Cell \u001b[1;32mIn[48], line 2\u001b[0m\n\u001b[0;32m      1\u001b[0m \u001b[38;5;28mprint\u001b[39m(\u001b[38;5;28mstr\u001b[39m(\u001b[38;5;28;01mTrue\u001b[39;00m), end\u001b[38;5;241m=\u001b[39m\u001b[38;5;124m\"\u001b[39m\u001b[38;5;124m \u001b[39m\u001b[38;5;124m\"\u001b[39m)\n\u001b[1;32m----> 2\u001b[0m \u001b[38;5;28mint\u001b[39m(\u001b[38;5;124m\"\u001b[39m\u001b[38;5;124m4.5\u001b[39m\u001b[38;5;124m\"\u001b[39m)\n",
      "\u001b[1;31mValueError\u001b[0m: invalid literal for int() with base 10: '4.5'"
     ]
    }
   ],
   "source": [
    "38) What is the output of the following code?\n",
    "print(str(True), end=\" \")\n",
    "int(\"4.5\")\n",
    "output: 'True' ValueError"
   ]
  },
  {
   "cell_type": "code",
   "execution_count": null,
   "id": "7ab47256-861b-4da4-b7d0-7a0c431b90b3",
   "metadata": {},
   "outputs": [],
   "source": [
    "39) Which of the following gives the output as “ello” from name = \"Hello, World!\"?\n",
    "Ans: print(name[1:4])"
   ]
  },
  {
   "cell_type": "code",
   "execution_count": 50,
   "id": "635f603d-dd3b-4b1e-a7a7-f1b040e4ffce",
   "metadata": {},
   "outputs": [
    {
     "name": "stdout",
     "output_type": "stream",
     "text": [
      "{1, 3, 4, 5, 6}\n"
     ]
    }
   ],
   "source": [
    "40)\n",
    "set1 = {1, 5, 6, 4, 3}\n",
    "print(set1)\n",
    "\n"
   ]
  },
  {
   "cell_type": "code",
   "execution_count": 52,
   "id": "c10a5688-45ce-4859-b57b-d2d281c1b224",
   "metadata": {},
   "outputs": [
    {
     "name": "stdout",
     "output_type": "stream",
     "text": [
      "25\n",
      "50\n"
     ]
    }
   ],
   "source": [
    "41) What is the output of the following code?\n",
    "x = 50\n",
    "def fun1():\n",
    " x = 25\n",
    " print(x)\n",
    "fun1()\n",
    "print(x)\n"
   ]
  },
  {
   "cell_type": "code",
   "execution_count": 54,
   "id": "b98800ce-cb83-47a1-968a-9abbe575194f",
   "metadata": {},
   "outputs": [
    {
     "ename": "UnboundLocalError",
     "evalue": "cannot access local variable 'x' where it is not associated with a value",
     "output_type": "error",
     "traceback": [
      "\u001b[1;31m---------------------------------------------------------------------------\u001b[0m",
      "\u001b[1;31mUnboundLocalError\u001b[0m                         Traceback (most recent call last)",
      "Cell \u001b[1;32mIn[54], line 5\u001b[0m\n\u001b[0;32m      3\u001b[0m  x \u001b[38;5;241m=\u001b[39m x \u001b[38;5;241m+\u001b[39m \u001b[38;5;241m1\u001b[39m\n\u001b[0;32m      4\u001b[0m  \u001b[38;5;28mprint\u001b[39m(x)\n\u001b[1;32m----> 5\u001b[0m myfunc()\n\u001b[0;32m      6\u001b[0m \u001b[38;5;28mprint\u001b[39m(x)\n",
      "Cell \u001b[1;32mIn[54], line 3\u001b[0m, in \u001b[0;36mmyfunc\u001b[1;34m()\u001b[0m\n\u001b[0;32m      2\u001b[0m \u001b[38;5;28;01mdef\u001b[39;00m \u001b[38;5;21mmyfunc\u001b[39m():\n\u001b[1;32m----> 3\u001b[0m  x \u001b[38;5;241m=\u001b[39m x \u001b[38;5;241m+\u001b[39m \u001b[38;5;241m1\u001b[39m\n\u001b[0;32m      4\u001b[0m  \u001b[38;5;28mprint\u001b[39m(x)\n",
      "\u001b[1;31mUnboundLocalError\u001b[0m: cannot access local variable 'x' where it is not associated with a value"
     ]
    }
   ],
   "source": [
    "42) What is the output of the following variable assignment?\n",
    "x = 75\n",
    "def myfunc():\n",
    " x = x + 1\n",
    " print(x)\n",
    "myfunc()\n",
    "print(x)\n"
   ]
  },
  {
   "cell_type": "code",
   "execution_count": null,
   "id": "ca7d509a-1a8c-4f60-b752-dd053ad06b7c",
   "metadata": {},
   "outputs": [],
   "source": [
    "43) What is the data type of print(type(0xFF))?\n",
    "Ans: hex"
   ]
  },
  {
   "cell_type": "code",
   "execution_count": null,
   "id": "8d104c86-aa78-48b7-9c60-7a20c45aa3fa",
   "metadata": {},
   "outputs": [],
   "source": [
    "44) Select all the right ways to create a string literal Ault'Kelly\n"
   ]
  },
  {
   "cell_type": "code",
   "execution_count": 56,
   "id": "2a0e8a58-c9f3-41fb-8ca6-f64bf594b2ce",
   "metadata": {},
   "outputs": [
    {
     "name": "stdout",
     "output_type": "stream",
     "text": [
      "Ault'Kelly\n"
     ]
    }
   ],
   "source": [
    " str1 = 'Ault\\'Kelly'\n",
    "print(str1)"
   ]
  },
  {
   "cell_type": "code",
   "execution_count": 58,
   "id": "c495b58f-2e4f-4fc6-a4da-69530a3f07a5",
   "metadata": {},
   "outputs": [
    {
     "name": "stdout",
     "output_type": "stream",
     "text": [
      "Ault'Kelly\n"
     ]
    }
   ],
   "source": [
    " str1 = 'Ault\\'Kelly'\n",
    "print(str1)"
   ]
  },
  {
   "cell_type": "code",
   "execution_count": 60,
   "id": "dde7804b-09ae-4e13-8fc3-4ee3bcbd9b0e",
   "metadata": {},
   "outputs": [
    {
     "ename": "SyntaxError",
     "evalue": "unterminated string literal (detected at line 1) (3296360951.py, line 1)",
     "output_type": "error",
     "traceback": [
      "\u001b[1;36m  Cell \u001b[1;32mIn[60], line 1\u001b[1;36m\u001b[0m\n\u001b[1;33m    str1 = 'Ault\\\\'Kelly'\u001b[0m\n\u001b[1;37m                        ^\u001b[0m\n\u001b[1;31mSyntaxError\u001b[0m\u001b[1;31m:\u001b[0m unterminated string literal (detected at line 1)\n"
     ]
    }
   ],
   "source": [
    "str1 = 'Ault\\\\'Kelly'\n",
    "print(str1)"
   ]
  },
  {
   "cell_type": "code",
   "execution_count": 62,
   "id": "e75002ba-0a0c-4c15-a2ff-b0b86d953858",
   "metadata": {},
   "outputs": [
    {
     "name": "stdout",
     "output_type": "stream",
     "text": [
      "<class 'tuple'>\n"
     ]
    }
   ],
   "source": [
    "45) What is the data type of the following?\n",
    "aTuple = (1, 'Jhon', 1+3j)\n",
    "print(type(aTuple[2:3]))\n"
   ]
  },
  {
   "cell_type": "code",
   "execution_count": 64,
   "id": "e8986a27-b35d-4c77-8878-809947b2d73c",
   "metadata": {},
   "outputs": [
    {
     "name": "stdout",
     "output_type": "stream",
     "text": [
      "False True True True\n"
     ]
    }
   ],
   "source": [
    "46) What is the output of the following code?\n",
    "print(bool(0), bool(3.14159), bool(-3), bool(1.0+1j))\n"
   ]
  },
  {
   "cell_type": "code",
   "execution_count": 68,
   "id": "fa4df5e3-00a8-4a69-80a9-1a5703c78a84",
   "metadata": {},
   "outputs": [
    {
     "name": "stdout",
     "output_type": "stream",
     "text": [
      "75\n"
     ]
    }
   ],
   "source": [
    "47) What is the output of the following code?\n",
    "def func1():\n",
    " x = 50\n",
    " return x\n",
    "func1()\n",
    "print(x)"
   ]
  },
  {
   "cell_type": "code",
   "execution_count": null,
   "id": "20c5bd74-f4db-40b5-bc56-616e87ed9648",
   "metadata": {},
   "outputs": [],
   "source": [
    "48) What is the output of print(type({}) is set?\n",
    "output: False"
   ]
  },
  {
   "cell_type": "code",
   "execution_count": 72,
   "id": "b060266a-7d72-448b-8c5b-ed2e6a4f5017",
   "metadata": {},
   "outputs": [
    {
     "name": "stdout",
     "output_type": "stream",
     "text": [
      "<class 'dict'>\n"
     ]
    }
   ],
   "source": [
    "print(type({}))"
   ]
  },
  {
   "cell_type": "code",
   "execution_count": 74,
   "id": "df170530-6b7b-4f1c-a855-3e803b8b7352",
   "metadata": {},
   "outputs": [
    {
     "name": "stdout",
     "output_type": "stream",
     "text": [
      "50\n"
     ]
    }
   ],
   "source": [
    "49) Please select the correct expression to reassign a global variable x to 20 inside a function fun1():\n",
    "x = 50\n",
    "def fun1():\n",
    "    x = 20\n",
    "\n",
    "fun1()\n",
    "print(x) "
   ]
  },
  {
   "cell_type": "code",
   "execution_count": null,
   "id": "344f26e9-2ad9-4ccf-b4a1-e8f526696d03",
   "metadata": {},
   "outputs": [],
   "source": [
    "50) Select all the valid string creation in Python:\n",
    "str1 = 'str1'\n",
    "str1 = \"str1\"\n",
    "str1 = 'str1'"
   ]
  },
  {
   "cell_type": "code",
   "execution_count": 76,
   "id": "e8a29656-bbbc-4ae5-9a32-1f5fe8df7f92",
   "metadata": {},
   "outputs": [
    {
     "data": {
      "text/plain": [
       "range"
      ]
     },
     "execution_count": 76,
     "metadata": {},
     "output_type": "execute_result"
    }
   ],
   "source": [
    "51) In Python 3, what is the output of type(range(5))? (What data type will it return).\n",
    "type(range(5))"
   ]
  },
  {
   "cell_type": "code",
   "execution_count": 78,
   "id": "3b01e0ff-ee13-42cd-8725-0416c9993f88",
   "metadata": {},
   "outputs": [
    {
     "name": "stdout",
     "output_type": "stream",
     "text": [
      "<class 'int'>\n"
     ]
    }
   ],
   "source": [
    "52) What is the data type of print(type(10))?\n",
    "print(type(10))"
   ]
  },
  {
   "cell_type": "code",
   "execution_count": null,
   "id": "0c332cfb-e6c1-4e91-a816-d4f45b3eece4",
   "metadata": {},
   "outputs": [],
   "source": [
    "53) What is the data type of the variable “x” in the following code snippet?\n",
    "x = 5\n",
    "output: integer"
   ]
  },
  {
   "cell_type": "code",
   "execution_count": 80,
   "id": "7da9a1a0-458a-4d1f-9eba-810b509c958b",
   "metadata": {},
   "outputs": [
    {
     "name": "stdout",
     "output_type": "stream",
     "text": [
      "<class 'str'>\n"
     ]
    }
   ],
   "source": [
    "54) What will be the output of the following code snippet?\n",
    "x = \"Hello\" \n",
    "print(type(x)) "
   ]
  },
  {
   "cell_type": "code",
   "execution_count": null,
   "id": "6ff2dcd2-9659-45ba-8af0-ba764a7b9420",
   "metadata": {},
   "outputs": [],
   "source": [
    "55) Which data type in Python is used to store a sequence of characters?\n",
    "Ans: String"
   ]
  },
  {
   "cell_type": "code",
   "execution_count": 84,
   "id": "3955792b-61f9-4744-8135-230875ba2059",
   "metadata": {},
   "outputs": [
    {
     "name": "stdout",
     "output_type": "stream",
     "text": [
      "<class 'float'>\n"
     ]
    }
   ],
   "source": [
    "56) What is the output of the following code snippet?\n",
    "x = 3.14\n",
    "print(type(x)) "
   ]
  },
  {
   "cell_type": "code",
   "execution_count": null,
   "id": "ed28ff40-0047-4c9e-8d1e-169035fdbb57",
   "metadata": {},
   "outputs": [],
   "source": [
    "57) Which data type is used to store a collection of items, where each item is indexed by a key?\n",
    "Ans: Dictionary"
   ]
  },
  {
   "cell_type": "code",
   "execution_count": 86,
   "id": "2fddb435-acb0-4c0f-b0cf-6852cca39d2b",
   "metadata": {},
   "outputs": [
    {
     "name": "stdout",
     "output_type": "stream",
     "text": [
      "30\n"
     ]
    }
   ],
   "source": [
    "58) What will be the output of the following code snippet?\n",
    "x = 10 \n",
    "y = \"20\" \n",
    "print(x + int(y))"
   ]
  },
  {
   "cell_type": "code",
   "execution_count": null,
   "id": "10ddc5b9-80c8-441c-b795-56dcf43c48a0",
   "metadata": {},
   "outputs": [],
   "source": [
    "59) Which data type in Python is mutable?\n",
    "Ans: set and list "
   ]
  },
  {
   "cell_type": "code",
   "execution_count": 88,
   "id": "3fc88921-5563-4049-bef6-70ff9b04bd46",
   "metadata": {},
   "outputs": [
    {
     "name": "stdout",
     "output_type": "stream",
     "text": [
      "<class 'set'>\n"
     ]
    }
   ],
   "source": [
    "60) What will be the output of the following code snippet?\n",
    "x = {\"apple\", \"banana\", \"cherry\"} \n",
    "print(type(x))"
   ]
  },
  {
   "cell_type": "code",
   "execution_count": null,
   "id": "24c6b8d6-d7dc-41bf-a510-45c995d366a9",
   "metadata": {},
   "outputs": [],
   "source": [
    "61) Which data type is used to store a collection of items, where each item is unique and unordered?\n",
    "Ans: Set"
   ]
  },
  {
   "cell_type": "code",
   "execution_count": 1,
   "id": "d37c197b-3c60-4266-a80d-88a8566382b1",
   "metadata": {},
   "outputs": [
    {
     "name": "stdout",
     "output_type": "stream",
     "text": [
      "<class 'dict'>\n"
     ]
    }
   ],
   "source": [
    "62)\n",
    "x = {\"name\": \"John\", \"age\": 30} \n",
    "print(type(x)) "
   ]
  },
  {
   "cell_type": "code",
   "execution_count": null,
   "id": "5b0a0d2d-13e7-40d7-8745-160c6b39b23d",
   "metadata": {},
   "outputs": [],
   "source": [
    "63)What is the data type of the variable “x” in the following code snippet?\n",
    "x = True\n",
    "output: Boolean"
   ]
  },
  {
   "cell_type": "code",
   "execution_count": 3,
   "id": "e70d3d8c-36eb-4986-8623-0e7dde446411",
   "metadata": {},
   "outputs": [
    {
     "name": "stdout",
     "output_type": "stream",
     "text": [
      "<class 'list'>\n"
     ]
    }
   ],
   "source": [
    "64)\n",
    "x = [1,2,3]\n",
    "print(type(x))"
   ]
  },
  {
   "cell_type": "code",
   "execution_count": null,
   "id": "65e3c168-aaa6-4299-ac47-651966643e83",
   "metadata": {},
   "outputs": [],
   "source": [
    "65) Which data type is used to store a collection of items, where each item is indexed by a numerical \n",
    "index?\n",
    "Ans: list"
   ]
  },
  {
   "cell_type": "code",
   "execution_count": null,
   "id": "b6420b19-cdb8-41b8-8bf1-bc61b87c7950",
   "metadata": {},
   "outputs": [],
   "source": [
    "66) Which of the following statements about Python strings is true?\n",
    "Ans: strings can be concatinated by using \"+\" operator."
   ]
  },
  {
   "cell_type": "code",
   "execution_count": null,
   "id": "5676f9ef-481e-42e7-9749-e1af894ad6fd",
   "metadata": {},
   "outputs": [],
   "source": [
    "67) Which data type in Python is immutable?\n",
    "Ans: Tuple"
   ]
  },
  {
   "cell_type": "code",
   "execution_count": 5,
   "id": "26c42e12-d90c-4902-aef7-2fc130dafeb6",
   "metadata": {},
   "outputs": [
    {
     "name": "stdout",
     "output_type": "stream",
     "text": [
      "1020\n"
     ]
    }
   ],
   "source": [
    "68)\n",
    "x = 10\n",
    "y = \"20\"\n",
    "print(str(x)+y)"
   ]
  },
  {
   "cell_type": "code",
   "execution_count": 7,
   "id": "2cca851c-eb62-4fac-81b3-68dee6c5a4b3",
   "metadata": {},
   "outputs": [
    {
     "name": "stdout",
     "output_type": "stream",
     "text": [
      "[1, 2, 3, 4]\n"
     ]
    }
   ],
   "source": [
    "69)\n",
    "x = [1,2,3]\n",
    "y = x.copy()\n",
    "x.append(4)\n",
    "print(x)"
   ]
  },
  {
   "cell_type": "code",
   "execution_count": 17,
   "id": "c8733aec-846c-41d1-9135-c5c693f5b9dd",
   "metadata": {},
   "outputs": [
    {
     "name": "stdout",
     "output_type": "stream",
     "text": [
      "{'b', 'c'}\n"
     ]
    }
   ],
   "source": [
    "70)\n",
    "x = {\"a\",\"b\",\"c\"}\n",
    "y = {\"b\",\"c\",\"d\"}\n",
    "z = x & y\n",
    "print(z)"
   ]
  },
  {
   "cell_type": "code",
   "execution_count": 19,
   "id": "ed83895a-fafa-4a03-a28b-e263b048afdc",
   "metadata": {},
   "outputs": [
    {
     "name": "stdout",
     "output_type": "stream",
     "text": [
      "20\n",
      "10\n"
     ]
    }
   ],
   "source": [
    "71)\n",
    "x = 10\n",
    "y = 20\n",
    "x,y = y,x\n",
    "print(x)\n",
    "print(y)\n"
   ]
  },
  {
   "cell_type": "code",
   "execution_count": 21,
   "id": "e271fb54-2583-4889-90ad-7779a7d2e82a",
   "metadata": {},
   "outputs": [
    {
     "name": "stdout",
     "output_type": "stream",
     "text": [
      "{'a': 1, 'b': 2, 'c': 3, 'd': 4}\n"
     ]
    }
   ],
   "source": [
    "72)\n",
    "x = {\"a\":1,\"b\":2}\n",
    "y = {\"c\":3,\"d\":4}\n",
    "z = {**x,**y}\n",
    "print(z)"
   ]
  },
  {
   "cell_type": "code",
   "execution_count": null,
   "id": "7fcccfcd-9d0c-47ec-9358-efeafef6429f",
   "metadata": {},
   "outputs": [],
   "source": [
    "73) Which data type in Python represents a sequence of characters?\n",
    "Ans: string"
   ]
  },
  {
   "cell_type": "code",
   "execution_count": 25,
   "id": "53040303-314d-4c21-8ea8-c5b3406a3614",
   "metadata": {},
   "outputs": [
    {
     "name": "stdout",
     "output_type": "stream",
     "text": [
      "set()\n"
     ]
    }
   ],
   "source": [
    "74)\n",
    "x = {1,2,3}\n",
    "x.clear()\n",
    "print(x)"
   ]
  },
  {
   "cell_type": "code",
   "execution_count": null,
   "id": "ae970ec4-36ea-44c2-b42f-28e67fde05af",
   "metadata": {},
   "outputs": [],
   "source": [
    "75) Which data type in Python is used to represent a true or false value?\n",
    "Ans: Boolean"
   ]
  },
  {
   "cell_type": "code",
   "execution_count": 27,
   "id": "2e52549f-3110-4ebb-9d3c-cefc9d2be56a",
   "metadata": {},
   "outputs": [
    {
     "name": "stdout",
     "output_type": "stream",
     "text": [
      "HELLO\n"
     ]
    }
   ],
   "source": [
    "76)\n",
    "x = \"hello\"\n",
    "y = x.upper()\n",
    "print(y)"
   ]
  },
  {
   "cell_type": "code",
   "execution_count": null,
   "id": "76089f35-b51b-4de3-847a-e5c4e5b1d601",
   "metadata": {},
   "outputs": [],
   "source": [
    "77) Which data type in Python is used to store a collection of items, where each item is indexed by a \n",
    "key?\n",
    "Ans: Dictionary"
   ]
  },
  {
   "cell_type": "code",
   "execution_count": 30,
   "id": "88bcfca3-ae5b-47a1-acee-e93b436faaa4",
   "metadata": {},
   "outputs": [
    {
     "name": "stdout",
     "output_type": "stream",
     "text": [
      "heLlo\n"
     ]
    }
   ],
   "source": [
    "78)\n",
    "x = \"hello\" \n",
    "y = x.replace(\"l\", \"L\", 1) \n",
    "print(y) "
   ]
  },
  {
   "cell_type": "code",
   "execution_count": 33,
   "id": "586bcdee-ad76-4dc7-95d6-c30ebbe67124",
   "metadata": {},
   "outputs": [
    {
     "name": "stdout",
     "output_type": "stream",
     "text": [
      "(1, 2, [5, 4])\n"
     ]
    }
   ],
   "source": [
    "79)\n",
    "x = (1, 2, [3, 4]) \n",
    "x[2][0] = 5 \n",
    "print(x) "
   ]
  },
  {
   "cell_type": "code",
   "execution_count": 35,
   "id": "59ef6798-9091-46eb-99eb-50a09b46bd7e",
   "metadata": {},
   "outputs": [
    {
     "ename": "KeyError",
     "evalue": "'address'",
     "output_type": "error",
     "traceback": [
      "\u001b[1;31m---------------------------------------------------------------------------\u001b[0m",
      "\u001b[1;31mKeyError\u001b[0m                                  Traceback (most recent call last)",
      "Cell \u001b[1;32mIn[35], line 2\u001b[0m\n\u001b[0;32m      1\u001b[0m x \u001b[38;5;241m=\u001b[39m {\u001b[38;5;124m\"\u001b[39m\u001b[38;5;124mname\u001b[39m\u001b[38;5;124m\"\u001b[39m: \u001b[38;5;124m\"\u001b[39m\u001b[38;5;124mJohn\u001b[39m\u001b[38;5;124m\"\u001b[39m, \u001b[38;5;124m\"\u001b[39m\u001b[38;5;124mage\u001b[39m\u001b[38;5;124m\"\u001b[39m: \u001b[38;5;241m30\u001b[39m} \n\u001b[1;32m----> 2\u001b[0m \u001b[38;5;28mprint\u001b[39m(x[\u001b[38;5;124m\"\u001b[39m\u001b[38;5;124maddress\u001b[39m\u001b[38;5;124m\"\u001b[39m])\n",
      "\u001b[1;31mKeyError\u001b[0m: 'address'"
     ]
    }
   ],
   "source": [
    "80)\n",
    "x = {\"name\": \"John\", \"age\": 30} \n",
    "print(x[\"address\"]) "
   ]
  },
  {
   "cell_type": "code",
   "execution_count": null,
   "id": "d22eff9e-a4d3-4963-8b39-98ae7fb378d3",
   "metadata": {},
   "outputs": [],
   "source": [
    "81) Which data type in Python is used to store a collection of items, where each item is unique and \n",
    "unordered?\n",
    "Ans: set"
   ]
  },
  {
   "cell_type": "code",
   "execution_count": 37,
   "id": "746a2d9e-275c-4cde-9495-744fa5009186",
   "metadata": {},
   "outputs": [
    {
     "name": "stdout",
     "output_type": "stream",
     "text": [
      "[4, 2, 3]\n"
     ]
    }
   ],
   "source": [
    "82)\n",
    "x = [1,2,3]\n",
    "y = x[:]\n",
    "x[0] = 4\n",
    "print(x)"
   ]
  },
  {
   "cell_type": "code",
   "execution_count": 55,
   "id": "4d80bd86-7501-40aa-a26a-c689ccdcc28b",
   "metadata": {},
   "outputs": [
    {
     "name": "stdout",
     "output_type": "stream",
     "text": [
      "John\n"
     ]
    }
   ],
   "source": [
    "\n",
    "x = {\"name\": \"John\", \"age\": 30} \n",
    "y = x.copy() \n",
    "x[\"name\"] = \"John\"\n",
    "print(y[\"name\"])"
   ]
  },
  {
   "cell_type": "code",
   "execution_count": 41,
   "id": "a7bb47e5-b84c-4fba-9eb4-1c3142eb6394",
   "metadata": {},
   "outputs": [
    {
     "name": "stdout",
     "output_type": "stream",
     "text": [
      "banana\n"
     ]
    }
   ],
   "source": [
    "84)\n",
    "x = {\"apple\",\"banana\",\"cherry\"}\n",
    "y = x.pop()\n",
    "print(y)"
   ]
  },
  {
   "cell_type": "code",
   "execution_count": null,
   "id": "b9610ace-1af1-413a-a9c7-853b0434fbd9",
   "metadata": {},
   "outputs": [],
   "source": [
    "85) Which data type in Python is used to store a collection of items, where each item is indexed by a \n",
    "numerical index?\n",
    "Ans: List"
   ]
  },
  {
   "cell_type": "code",
   "execution_count": 1,
   "id": "7477c0ce-e520-453a-a168-0e09e30b5723",
   "metadata": {},
   "outputs": [
    {
     "name": "stdout",
     "output_type": "stream",
     "text": [
      "[1, 4, 2, 3]\n"
     ]
    }
   ],
   "source": [
    "86)\n",
    "x = [1, 2, 3] \n",
    "x.insert(1, 4) \n",
    "print(x) "
   ]
  },
  {
   "cell_type": "code",
   "execution_count": 3,
   "id": "76dbfe21-0ac9-4e23-b066-67b41721b28d",
   "metadata": {},
   "outputs": [
    {
     "name": "stdout",
     "output_type": "stream",
     "text": [
      "{'a', 'c'}\n"
     ]
    }
   ],
   "source": [
    "87)\n",
    "x = {\"a\", \"b\", \"c\"} \n",
    "y = x - {\"b\"} \n",
    "print(y)"
   ]
  },
  {
   "cell_type": "code",
   "execution_count": 5,
   "id": "a09809be-3b47-46a7-be18-991fb001e41e",
   "metadata": {},
   "outputs": [
    {
     "name": "stdout",
     "output_type": "stream",
     "text": [
      "{1, 2, 3, 4}\n"
     ]
    }
   ],
   "source": [
    "88)\n",
    "x = {1,2,3}\n",
    "y = x.add(4)\n",
    "print(x)"
   ]
  },
  {
   "cell_type": "code",
   "execution_count": 7,
   "id": "f068e1f5-2fbd-4239-8c6d-c6e3e8320b71",
   "metadata": {},
   "outputs": [
    {
     "data": {
      "text/plain": [
       "list"
      ]
     },
     "execution_count": 7,
     "metadata": {},
     "output_type": "execute_result"
    }
   ],
   "source": [
    "89)\n",
    "x = [1,2,3]\n",
    "type(x)"
   ]
  },
  {
   "cell_type": "code",
   "execution_count": null,
   "id": "64f3d7b7-e57d-4614-9dd2-49b5d9f8535c",
   "metadata": {},
   "outputs": [],
   "source": [
    "90) Which data type in Python is used to store a sequence of items, where each item is ordered and \n",
    "can be changed?\n",
    "Ans: List"
   ]
  },
  {
   "cell_type": "code",
   "execution_count": 11,
   "id": "f8a1f6fd-6910-4988-82fd-550054d533d9",
   "metadata": {},
   "outputs": [
    {
     "name": "stdout",
     "output_type": "stream",
     "text": [
      "25\n",
      "age is: 25\n"
     ]
    }
   ],
   "source": [
    "91)\n",
    "age = 25\n",
    "print(age)\n",
    "print(\"age is:\",age)"
   ]
  },
  {
   "cell_type": "code",
   "execution_count": 17,
   "id": "6d1c9b20-0838-4a89-8ebc-259c1bc0becf",
   "metadata": {},
   "outputs": [
    {
     "name": "stdout",
     "output_type": "stream",
     "text": [
      "19\n",
      "-1\n"
     ]
    }
   ],
   "source": [
    "92)\n",
    "number = 20\n",
    "print(number-1)\n",
    "number = -1\n",
    "print(number)"
   ]
  },
  {
   "cell_type": "code",
   "execution_count": 61,
   "id": "fe72a473-3b4f-4f1e-a587-5219e1a3367a",
   "metadata": {},
   "outputs": [
    {
     "name": "stdout",
     "output_type": "stream",
     "text": [
      "code chef\n"
     ]
    }
   ],
   "source": [
    "93)\n",
    "first_name = \"code\"\n",
    "last_name = \"chef\"\n",
    "print(first_name,last_name)"
   ]
  },
  {
   "cell_type": "code",
   "execution_count": 29,
   "id": "23481d59-1a1d-42ca-9128-eca90e5e9d5c",
   "metadata": {},
   "outputs": [
    {
     "name": "stdout",
     "output_type": "stream",
     "text": [
      "43\n",
      "the sum of 23 and 20 is: 43\n"
     ]
    }
   ],
   "source": [
    "94)\n",
    "a = 23\n",
    "b = 20\n",
    "c = a + b\n",
    "print(c)\n",
    "print(\"the sum of\",a,\"and\",b,\"is:\", c)"
   ]
  },
  {
   "cell_type": "code",
   "execution_count": 33,
   "id": "a3a91dc7-fcaa-417c-967b-78382900f7c3",
   "metadata": {},
   "outputs": [
    {
     "name": "stdout",
     "output_type": "stream",
     "text": [
      "3420\n",
      "the area of rectangle: 3420\n"
     ]
    }
   ],
   "source": [
    "95)\n",
    "length = 45\n",
    "width = 76\n",
    "area  =  length * width\n",
    "print(area)\n",
    "print(\"the area of rectangle:\",area)"
   ]
  },
  {
   "cell_type": "code",
   "execution_count": 39,
   "id": "fc070f53-0dc3-42bd-9b15-5e509f2cfe08",
   "metadata": {},
   "outputs": [
    {
     "name": "stdout",
     "output_type": "stream",
     "text": [
      "248.71940000000004\n",
      "the area of circle: 248.71940000000004\n"
     ]
    }
   ],
   "source": [
    "96)\n",
    "pi = 3.14\n",
    "radius = 8.9\n",
    "area  = pi * radius * radius\n",
    "print(area)\n",
    "print(\"the area of circle:\",area)"
   ]
  },
  {
   "cell_type": "code",
   "execution_count": 43,
   "id": "4d98d4b8-34e6-47fa-8556-11f5ee60e6a2",
   "metadata": {},
   "outputs": [
    {
     "name": "stdout",
     "output_type": "stream",
     "text": [
      "Learning to fun!\n"
     ]
    }
   ],
   "source": [
    "97) \n",
    "a = \"Learning\"\n",
    "b = \"to fun!\"\n",
    "print(a,b)"
   ]
  },
  {
   "cell_type": "code",
   "execution_count": null,
   "id": "be302d9a-3529-4185-b4f5-72a579bb6121",
   "metadata": {},
   "outputs": [],
   "source": []
  }
 ],
 "metadata": {
  "kernelspec": {
   "display_name": "Python 3 (ipykernel)",
   "language": "python",
   "name": "python3"
  },
  "language_info": {
   "codemirror_mode": {
    "name": "ipython",
    "version": 3
   },
   "file_extension": ".py",
   "mimetype": "text/x-python",
   "name": "python",
   "nbconvert_exporter": "python",
   "pygments_lexer": "ipython3",
   "version": "3.12.7"
  }
 },
 "nbformat": 4,
 "nbformat_minor": 5
}
