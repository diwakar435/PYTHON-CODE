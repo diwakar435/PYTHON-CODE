{
 "cells": [
  {
   "cell_type": "markdown",
   "id": "adf0ad1d-191f-4ad1-8e4f-d80aeca6186b",
   "metadata": {},
   "source": [
    "# Manipulating Strings"
   ]
  },
  {
   "cell_type": "code",
   "execution_count": null,
   "id": "f9d0cc8a-3730-49c3-a68f-f31bf1eccb49",
   "metadata": {},
   "outputs": [],
   "source": [
    "# `\\'` --- Single quote\n",
    "# `\\\"` --- Double quote\n",
    "# `\\n` --- New line (line break)\n",
    "# `\\t ---  Tab\n",
    "# `\\\\` --- Backslash\n",
    "# `\\b` ---- Backspace\n",
    "# `\\ooo` --- octal value\n",
    "# `\\r` ---- carriage return\n"
   ]
  },
  {
   "cell_type": "code",
   "execution_count": 2,
   "id": "85296e36-921f-4c76-a53e-a5894fb4eeb3",
   "metadata": {},
   "outputs": [
    {
     "name": "stdout",
     "output_type": "stream",
     "text": [
      "hello there!\n",
      "How are you?\n",
      "I'm doing fine.\n"
     ]
    }
   ],
   "source": [
    "print(\"hello there!\\nHow are you?\\nI\\'m doing fine.\")"
   ]
  },
  {
   "cell_type": "markdown",
   "id": "20bc7518-c6c2-4498-89f2-83b698a4fff3",
   "metadata": {},
   "source": [
    "# Raw string"
   ]
  },
  {
   "cell_type": "code",
   "execution_count": null,
   "id": "2b484292-b986-4f05-9af8-0de512218f58",
   "metadata": {},
   "outputs": [],
   "source": [
    "A raw string is entirely ignores all escape charaters and prints any backslash that appears in the string."
   ]
  },
  {
   "cell_type": "code",
   "execution_count": 7,
   "id": "717e6ada-886c-4bae-8594-62eed92a47d4",
   "metadata": {},
   "outputs": [
    {
     "name": "stdout",
     "output_type": "stream",
     "text": [
      "hello there!\\nHow are you?\\nI\\'m doing fine.\n"
     ]
    }
   ],
   "source": [
    "print(r\"hello there!\\nHow are you?\\nI\\'m doing fine.\")"
   ]
  },
  {
   "cell_type": "markdown",
   "id": "1408c6d2-2f5f-4b94-b056-e2e436fddd02",
   "metadata": {},
   "source": [
    "# Multiline string"
   ]
  },
  {
   "cell_type": "code",
   "execution_count": 10,
   "id": "5800b2eb-ae1f-4613-bbfd-6da556e5f8fe",
   "metadata": {},
   "outputs": [
    {
     "name": "stdout",
     "output_type": "stream",
     "text": [
      "Dear Alice,\n",
      "\n",
      "    Eve's cat has been arrested for catknapping,\n",
      "    cat burglary, and extortion.\n",
      "\n",
      "    sincerely,\n",
      "    Bob\n"
     ]
    }
   ],
   "source": [
    "print(\n",
    "    \"\"\"Dear Alice,\n",
    "\n",
    "    Eve's cat has been arrested for catknapping,\n",
    "    cat burglary, and extortion.\n",
    "\n",
    "    sincerely,\n",
    "    Bob\"\"\"\n",
    ")\n",
    "    "
   ]
  },
  {
   "cell_type": "markdown",
   "id": "abe34516-62d0-4a17-ae9c-9966fc14ede6",
   "metadata": {},
   "source": [
    "# Index and slicing operations"
   ]
  },
  {
   "cell_type": "code",
   "execution_count": 13,
   "id": "2c74fbba-3898-4de6-9289-4f5c8bb87fd5",
   "metadata": {},
   "outputs": [
    {
     "data": {
      "text/plain": [
       "'hello world'"
      ]
     },
     "execution_count": 13,
     "metadata": {},
     "output_type": "execute_result"
    }
   ],
   "source": [
    "a = 'hello world'\n",
    "a"
   ]
  },
  {
   "cell_type": "code",
   "execution_count": 15,
   "id": "f15290fe-d8b4-4ac2-a5e5-0ab61d57f6ff",
   "metadata": {},
   "outputs": [
    {
     "data": {
      "text/plain": [
       "'h'"
      ]
     },
     "execution_count": 15,
     "metadata": {},
     "output_type": "execute_result"
    }
   ],
   "source": [
    "a[0]"
   ]
  },
  {
   "cell_type": "code",
   "execution_count": 17,
   "id": "ace6d6f6-0f9d-483e-b6ec-08a7289eac72",
   "metadata": {},
   "outputs": [
    {
     "data": {
      "text/plain": [
       "' '"
      ]
     },
     "execution_count": 17,
     "metadata": {},
     "output_type": "execute_result"
    }
   ],
   "source": [
    "a[5]"
   ]
  },
  {
   "cell_type": "code",
   "execution_count": 19,
   "id": "2e8ab0f9-45f0-4b2c-a54f-6e2a493b5b13",
   "metadata": {},
   "outputs": [
    {
     "data": {
      "text/plain": [
       "'o'"
      ]
     },
     "execution_count": 19,
     "metadata": {},
     "output_type": "execute_result"
    }
   ],
   "source": [
    "a[7]"
   ]
  },
  {
   "cell_type": "code",
   "execution_count": 21,
   "id": "945614ce-8986-4dfc-8427-87c2a1a3271e",
   "metadata": {},
   "outputs": [
    {
     "data": {
      "text/plain": [
       "'hel'"
      ]
     },
     "execution_count": 21,
     "metadata": {},
     "output_type": "execute_result"
    }
   ],
   "source": [
    "a[0:3]"
   ]
  },
  {
   "cell_type": "code",
   "execution_count": 23,
   "id": "4dea46cc-6c00-4f9c-82b3-cd5598897217",
   "metadata": {},
   "outputs": [
    {
     "data": {
      "text/plain": [
       "'ell'"
      ]
     },
     "execution_count": 23,
     "metadata": {},
     "output_type": "execute_result"
    }
   ],
   "source": [
    "a[1:4]"
   ]
  },
  {
   "cell_type": "code",
   "execution_count": 25,
   "id": "dab8336f-f8b9-4f1d-89a1-e49a6f11378e",
   "metadata": {},
   "outputs": [
    {
     "data": {
      "text/plain": [
       "'hello wor'"
      ]
     },
     "execution_count": 25,
     "metadata": {},
     "output_type": "execute_result"
    }
   ],
   "source": [
    "a[:-2]"
   ]
  },
  {
   "cell_type": "code",
   "execution_count": 27,
   "id": "3c080249-0ed9-4c1b-a946-e4203133cb33",
   "metadata": {},
   "outputs": [
    {
     "data": {
      "text/plain": [
       "'l'"
      ]
     },
     "execution_count": 27,
     "metadata": {},
     "output_type": "execute_result"
    }
   ],
   "source": [
    "a[-2]"
   ]
  },
  {
   "cell_type": "code",
   "execution_count": 29,
   "id": "5d0de524-0807-4294-a6b6-61cc2f05dcec",
   "metadata": {},
   "outputs": [
    {
     "data": {
      "text/plain": [
       "'o'"
      ]
     },
     "execution_count": 29,
     "metadata": {},
     "output_type": "execute_result"
    }
   ],
   "source": [
    "a[-4]"
   ]
  },
  {
   "cell_type": "code",
   "execution_count": 31,
   "id": "e41c74ac-6f1e-4a95-a10e-349851c9ae55",
   "metadata": {},
   "outputs": [
    {
     "data": {
      "text/plain": [
       "'el o'"
      ]
     },
     "execution_count": 31,
     "metadata": {},
     "output_type": "execute_result"
    }
   ],
   "source": [
    "a[1:8:2]"
   ]
  },
  {
   "cell_type": "markdown",
   "id": "40ce0fa5-8935-494d-ba01-a48157b3fb09",
   "metadata": {},
   "source": [
    "# the in and not in operators"
   ]
  },
  {
   "cell_type": "code",
   "execution_count": 34,
   "id": "a8f16712-8b55-4f8f-8d4a-882db91bb17c",
   "metadata": {},
   "outputs": [
    {
     "data": {
      "text/plain": [
       "True"
      ]
     },
     "execution_count": 34,
     "metadata": {},
     "output_type": "execute_result"
    }
   ],
   "source": [
    "'Hello' in 'Hello world'"
   ]
  },
  {
   "cell_type": "code",
   "execution_count": 36,
   "id": "f4ce8549-cf73-4985-aed6-ba8d3632c479",
   "metadata": {},
   "outputs": [
    {
     "data": {
      "text/plain": [
       "False"
      ]
     },
     "execution_count": 36,
     "metadata": {},
     "output_type": "execute_result"
    }
   ],
   "source": [
    "'hello' in 'Hello World'"
   ]
  },
  {
   "cell_type": "code",
   "execution_count": 38,
   "id": "c335c104-44fd-48a1-be13-33038d0130da",
   "metadata": {},
   "outputs": [
    {
     "data": {
      "text/plain": [
       "False"
      ]
     },
     "execution_count": 38,
     "metadata": {},
     "output_type": "execute_result"
    }
   ],
   "source": [
    "'Hello' not in 'Hello world'"
   ]
  },
  {
   "cell_type": "markdown",
   "id": "2459ad35-43b6-4548-b472-f7cb37b507b6",
   "metadata": {},
   "source": [
    "'hello' not in 'Hello world'"
   ]
  },
  {
   "cell_type": "markdown",
   "id": "948cc312-f1c6-4836-b7c1-1f978d93d511",
   "metadata": {},
   "source": [
    "# upper(),lower() and title()"
   ]
  },
  {
   "cell_type": "code",
   "execution_count": 43,
   "id": "6756a857-6b81-4a8f-9bc2-7733025192c4",
   "metadata": {},
   "outputs": [
    {
     "data": {
      "text/plain": [
       "'Helloworld'"
      ]
     },
     "execution_count": 43,
     "metadata": {},
     "output_type": "execute_result"
    }
   ],
   "source": [
    "a = 'Helloworld'\n",
    "a"
   ]
  },
  {
   "cell_type": "code",
   "execution_count": 45,
   "id": "9014f794-23d7-4ba6-9a72-da93a3458593",
   "metadata": {},
   "outputs": [
    {
     "data": {
      "text/plain": [
       "'HELLOWORLD'"
      ]
     },
     "execution_count": 45,
     "metadata": {},
     "output_type": "execute_result"
    }
   ],
   "source": [
    "a.upper()"
   ]
  },
  {
   "cell_type": "code",
   "execution_count": 47,
   "id": "bdc3935c-3985-4889-841d-b51b91c4bd49",
   "metadata": {},
   "outputs": [
    {
     "data": {
      "text/plain": [
       "'helloworld'"
      ]
     },
     "execution_count": 47,
     "metadata": {},
     "output_type": "execute_result"
    }
   ],
   "source": [
    "a.lower()"
   ]
  },
  {
   "cell_type": "code",
   "execution_count": 49,
   "id": "60a3a695-28a2-427b-93f4-d6528f642450",
   "metadata": {},
   "outputs": [
    {
     "data": {
      "text/plain": [
       "'Helloworld'"
      ]
     },
     "execution_count": 49,
     "metadata": {},
     "output_type": "execute_result"
    }
   ],
   "source": [
    "a.title()"
   ]
  },
  {
   "cell_type": "markdown",
   "id": "7535269a-670f-4fdd-8e46-004ffb18b5a8",
   "metadata": {},
   "source": [
    "# isupper() and islower methods"
   ]
  },
  {
   "cell_type": "markdown",
   "id": "8f86e0f5-bb5f-4d0d-823f-6d6b2c2cda44",
   "metadata": {},
   "source": [
    " Returns 'True' or 'False' after evaluating if the string is lowercase or uppercase. "
   ]
  },
  {
   "cell_type": "code",
   "execution_count": 57,
   "id": "6eeeb9bd-b682-4006-83ee-eeb06b2e16e3",
   "metadata": {},
   "outputs": [
    {
     "data": {
      "text/plain": [
       "'welcome python'"
      ]
     },
     "execution_count": 57,
     "metadata": {},
     "output_type": "execute_result"
    }
   ],
   "source": [
    "name = 'Welcome Python'\n",
    "name"
   ]
  },
  {
   "cell_type": "code",
   "execution_count": 61,
   "id": "244a34a7-842e-4045-8105-001c489a0025",
   "metadata": {},
   "outputs": [
    {
     "data": {
      "text/plain": [
       "False"
      ]
     },
     "execution_count": 61,
     "metadata": {},
     "output_type": "execute_result"
    }
   ],
   "source": [
    "name.isupper()"
   ]
  },
  {
   "cell_type": "code",
   "execution_count": 63,
   "id": "dd74ae3c-cd55-4bdd-a36d-1e5c4c4b1f44",
   "metadata": {},
   "outputs": [
    {
     "data": {
      "text/plain": [
       "True"
      ]
     },
     "execution_count": 63,
     "metadata": {},
     "output_type": "execute_result"
    }
   ],
   "source": [
    "name.islower()"
   ]
  },
  {
   "cell_type": "code",
   "execution_count": 65,
   "id": "3d33266a-45f1-4d79-b6d1-c7969c341846",
   "metadata": {},
   "outputs": [
    {
     "data": {
      "text/plain": [
       "False"
      ]
     },
     "execution_count": 65,
     "metadata": {},
     "output_type": "execute_result"
    }
   ],
   "source": [
    "'Hello'.isupper()"
   ]
  },
  {
   "cell_type": "code",
   "execution_count": 67,
   "id": "6b20cf78-97b1-4636-b785-f5596ae1153d",
   "metadata": {},
   "outputs": [
    {
     "data": {
      "text/plain": [
       "False"
      ]
     },
     "execution_count": 67,
     "metadata": {},
     "output_type": "execute_result"
    }
   ],
   "source": [
    "'12345'.islower()"
   ]
  },
  {
   "cell_type": "code",
   "execution_count": 69,
   "id": "e8942b55-20f4-45f7-8cf2-33d02eb22540",
   "metadata": {},
   "outputs": [
    {
     "data": {
      "text/plain": [
       "False"
      ]
     },
     "execution_count": 69,
     "metadata": {},
     "output_type": "execute_result"
    }
   ],
   "source": [
    "'abc1234'.isupper()"
   ]
  },
  {
   "cell_type": "code",
   "execution_count": 71,
   "id": "6defbe3d-2879-40ae-b41b-c50e1374ddec",
   "metadata": {},
   "outputs": [
    {
     "data": {
      "text/plain": [
       "True"
      ]
     },
     "execution_count": 71,
     "metadata": {},
     "output_type": "execute_result"
    }
   ],
   "source": [
    "'HELLO'.isupper()"
   ]
  },
  {
   "cell_type": "markdown",
   "id": "52fd2a0c-c449-46cf-ba5d-ec7886f6de56",
   "metadata": {},
   "source": [
    "# The isX string methods"
   ]
  },
  {
   "cell_type": "code",
   "execution_count": null,
   "id": "bf822767-e3a7-4345-835b-9f7e2ef9ff41",
   "metadata": {},
   "outputs": [],
   "source": [
    "Method       Description\n",
    "isalpha()    returns 'True' if the string only consists of alphabets.\n",
    "isalnum()    returns 'True' if the string only consists of alphabets and numbers.\n",
    "isdecimal()  returns 'True' if the string only consists of numbers.\n",
    "isspace()    returns 'True' if the string only consists of spaces,tabs and new-line.\n",
    "istitle()    returns 'True' if the string only consists of words that begin with uppercase letters and followed by only lowercase letters."
   ]
  },
  {
   "cell_type": "code",
   "execution_count": 74,
   "id": "f1a046ca-8b9f-4364-9cf6-dfbeec4856b4",
   "metadata": {},
   "outputs": [
    {
     "data": {
      "text/plain": [
       "True"
      ]
     },
     "execution_count": 74,
     "metadata": {},
     "output_type": "execute_result"
    }
   ],
   "source": [
    "'Hello'.isalpha()"
   ]
  },
  {
   "cell_type": "code",
   "execution_count": 76,
   "id": "8097044d-0d43-4752-b4e6-5d7c123f1158",
   "metadata": {},
   "outputs": [
    {
     "data": {
      "text/plain": [
       "True"
      ]
     },
     "execution_count": 76,
     "metadata": {},
     "output_type": "execute_result"
    }
   ],
   "source": [
    "'Hello123'.isalnum()"
   ]
  },
  {
   "cell_type": "code",
   "execution_count": 78,
   "id": "48bc00a4-0ff3-4f48-bb0f-d75a57e4a339",
   "metadata": {},
   "outputs": [
    {
     "data": {
      "text/plain": [
       "True"
      ]
     },
     "execution_count": 78,
     "metadata": {},
     "output_type": "execute_result"
    }
   ],
   "source": [
    "'123'.isdecimal()"
   ]
  },
  {
   "cell_type": "markdown",
   "id": "e45c8739-b281-496b-b341-e9d29ad35f30",
   "metadata": {},
   "source": [
    "# startswith() and endswith()"
   ]
  },
  {
   "cell_type": "code",
   "execution_count": 81,
   "id": "b167e0d3-a848-40b5-9681-611582e6f748",
   "metadata": {},
   "outputs": [
    {
     "data": {
      "text/plain": [
       "True"
      ]
     },
     "execution_count": 81,
     "metadata": {},
     "output_type": "execute_result"
    }
   ],
   "source": [
    "'hello123'.startswith('hel')"
   ]
  },
  {
   "cell_type": "code",
   "execution_count": 83,
   "id": "cdff4877-a83d-49d1-bd04-3d5a14198ba0",
   "metadata": {},
   "outputs": [
    {
     "data": {
      "text/plain": [
       "False"
      ]
     },
     "execution_count": 83,
     "metadata": {},
     "output_type": "execute_result"
    }
   ],
   "source": [
    "'hello123'.endswith('he')"
   ]
  },
  {
   "cell_type": "code",
   "execution_count": 85,
   "id": "016b9bba-623e-4599-bb22-05579407939c",
   "metadata": {},
   "outputs": [
    {
     "data": {
      "text/plain": [
       "True"
      ]
     },
     "execution_count": 85,
     "metadata": {},
     "output_type": "execute_result"
    }
   ],
   "source": [
    "'12345'.startswith('12')"
   ]
  },
  {
   "cell_type": "code",
   "execution_count": 87,
   "id": "ff6879eb-bb8a-4f49-b483-bf3b1d05a4b3",
   "metadata": {},
   "outputs": [
    {
     "data": {
      "text/plain": [
       "False"
      ]
     },
     "execution_count": 87,
     "metadata": {},
     "output_type": "execute_result"
    }
   ],
   "source": [
    "'12345'.startswith('34')"
   ]
  },
  {
   "cell_type": "markdown",
   "id": "fd24cd5c-1dbb-484a-9e06-f6e6b3defaec",
   "metadata": {},
   "source": [
    "# join() and split()"
   ]
  },
  {
   "cell_type": "code",
   "execution_count": null,
   "id": "8146244a-6027-4c14-bad4-0a396d3360ec",
   "metadata": {},
   "outputs": [],
   "source": [
    "The join() method takes all the items in a iterable,like a dictionary,list,tuple or set, and joins them into a string.you can also specify a separator."
   ]
  },
  {
   "cell_type": "code",
   "execution_count": 90,
   "id": "210f699e-02f2-4df0-be03-9ea22f76bf11",
   "metadata": {},
   "outputs": [
    {
     "data": {
      "text/plain": [
       "'mynameishp'"
      ]
     },
     "execution_count": 90,
     "metadata": {},
     "output_type": "execute_result"
    }
   ],
   "source": [
    "''.join(['my','name','is','hp'])"
   ]
  },
  {
   "cell_type": "code",
   "execution_count": 92,
   "id": "3326601b-89ac-4088-b344-0aba2d2ab13d",
   "metadata": {},
   "outputs": [
    {
     "data": {
      "text/plain": [
       "'my name is hp'"
      ]
     },
     "execution_count": 92,
     "metadata": {},
     "output_type": "execute_result"
    }
   ],
   "source": [
    "' '.join(['my','name','is','hp'])"
   ]
  },
  {
   "cell_type": "code",
   "execution_count": 94,
   "id": "4ca52aa0-f358-4a6c-8a9f-2d012280ae7d",
   "metadata": {},
   "outputs": [
    {
     "data": {
      "text/plain": [
       "'my..name..is..hp'"
      ]
     },
     "execution_count": 94,
     "metadata": {},
     "output_type": "execute_result"
    }
   ],
   "source": [
    "'..'.join(['my','name','is','hp'])"
   ]
  },
  {
   "cell_type": "code",
   "execution_count": 96,
   "id": "cea94631-80e8-4ccb-8dee-f107af54d311",
   "metadata": {},
   "outputs": [
    {
     "data": {
      "text/plain": [
       "'my sss name sss is sss hp'"
      ]
     },
     "execution_count": 96,
     "metadata": {},
     "output_type": "execute_result"
    }
   ],
   "source": [
    "' sss '.join(['my','name','is','hp'])"
   ]
  },
  {
   "cell_type": "code",
   "execution_count": null,
   "id": "8d53a65b-1f97-41bd-8618-496ada96e107",
   "metadata": {},
   "outputs": [],
   "source": [
    "The split() method splits a string into a list.By default,it will use whitespace to separate items,but you can also set another character of choice."
   ]
  },
  {
   "cell_type": "code",
   "execution_count": 98,
   "id": "73bf3cbd-54e6-4ab1-b846-6861c10ebdff",
   "metadata": {},
   "outputs": [
    {
     "data": {
      "text/plain": [
       "['my', 'name', 'is', 'hp']"
      ]
     },
     "execution_count": 98,
     "metadata": {},
     "output_type": "execute_result"
    }
   ],
   "source": [
    "'my name is hp'.split() # separate with space"
   ]
  },
  {
   "cell_type": "code",
   "execution_count": 102,
   "id": "b8b9be03-21b3-47f0-bb61-828c128b8a50",
   "metadata": {},
   "outputs": [
    {
     "data": {
      "text/plain": [
       "['my,name,is,hp']"
      ]
     },
     "execution_count": 102,
     "metadata": {},
     "output_type": "execute_result"
    }
   ],
   "source": [
    "'my,name,is,hp'.split()"
   ]
  },
  {
   "cell_type": "markdown",
   "id": "b5029fef-f9f4-4e7b-8f21-87ee5103cf1d",
   "metadata": {},
   "source": [
    "# Justifying text with rjust(),ljust() and center()"
   ]
  },
  {
   "cell_type": "code",
   "execution_count": 107,
   "id": "8976fc7c-ee7f-4150-8df7-90ea75db7a28",
   "metadata": {},
   "outputs": [
    {
     "data": {
      "text/plain": [
       "'    hello'"
      ]
     },
     "execution_count": 107,
     "metadata": {},
     "output_type": "execute_result"
    }
   ],
   "source": [
    "'hello'.rjust(9)"
   ]
  },
  {
   "cell_type": "code",
   "execution_count": 109,
   "id": "3a7abf3d-1d80-4772-aba8-978df36111f3",
   "metadata": {},
   "outputs": [
    {
     "data": {
      "text/plain": [
       "'hello     '"
      ]
     },
     "execution_count": 109,
     "metadata": {},
     "output_type": "execute_result"
    }
   ],
   "source": [
    "'hello'.ljust(10)"
   ]
  },
  {
   "cell_type": "code",
   "execution_count": 111,
   "id": "9d75683b-a9df-4f61-ba28-a89b6691d5cd",
   "metadata": {},
   "outputs": [
    {
     "data": {
      "text/plain": [
       "'  hello   '"
      ]
     },
     "execution_count": 111,
     "metadata": {},
     "output_type": "execute_result"
    }
   ],
   "source": [
    "'hello'.center(10)"
   ]
  },
  {
   "cell_type": "code",
   "execution_count": 113,
   "id": "e5bc0324-0498-4504-8d74-87fea6e02b76",
   "metadata": {},
   "outputs": [
    {
     "data": {
      "text/plain": [
       "'        1234'"
      ]
     },
     "execution_count": 113,
     "metadata": {},
     "output_type": "execute_result"
    }
   ],
   "source": [
    "'1234'.rjust(12)"
   ]
  },
  {
   "cell_type": "code",
   "execution_count": null,
   "id": "7134628b-ed43-4d53-a29a-ca5db474c890",
   "metadata": {},
   "outputs": [],
   "source": [
    "And optional second argument to rjust() and ljust() will specify a fill character apart from a space character."
   ]
  },
  {
   "cell_type": "code",
   "execution_count": 115,
   "id": "3859792d-ef7a-4cf0-87fa-99e64483a013",
   "metadata": {},
   "outputs": [
    {
     "data": {
      "text/plain": [
       "'#####hello'"
      ]
     },
     "execution_count": 115,
     "metadata": {},
     "output_type": "execute_result"
    }
   ],
   "source": [
    "'hello'.rjust(10,'#')"
   ]
  },
  {
   "cell_type": "code",
   "execution_count": 117,
   "id": "17f80029-a735-4220-b216-686f07889f83",
   "metadata": {},
   "outputs": [
    {
     "data": {
      "text/plain": [
       "'hello@@@@@@@'"
      ]
     },
     "execution_count": 117,
     "metadata": {},
     "output_type": "execute_result"
    }
   ],
   "source": [
    "'hello'.ljust(12,'@')"
   ]
  },
  {
   "cell_type": "code",
   "execution_count": 121,
   "id": "2559ebaf-47e4-498b-ba28-2726ba4810b2",
   "metadata": {},
   "outputs": [
    {
     "data": {
      "text/plain": [
       "'###hello####'"
      ]
     },
     "execution_count": 121,
     "metadata": {},
     "output_type": "execute_result"
    }
   ],
   "source": [
    "'hello'.center(12,'#')"
   ]
  },
  {
   "cell_type": "code",
   "execution_count": 125,
   "id": "e110e766-3d56-42a3-b019-451514aab38a",
   "metadata": {},
   "outputs": [
    {
     "data": {
      "text/plain": [
       "'--------hello'"
      ]
     },
     "execution_count": 125,
     "metadata": {},
     "output_type": "execute_result"
    }
   ],
   "source": [
    "'hello'.rjust(13,'-')"
   ]
  },
  {
   "cell_type": "code",
   "execution_count": 127,
   "id": "41062bf7-4ae5-49fd-9c93-7601148e5ac1",
   "metadata": {},
   "outputs": [
    {
     "data": {
      "text/plain": [
       "'helloaaaaaaa'"
      ]
     },
     "execution_count": 127,
     "metadata": {},
     "output_type": "execute_result"
    }
   ],
   "source": [
    "'hello'.ljust(12,'a')"
   ]
  },
  {
   "cell_type": "markdown",
   "id": "f4e01235-23e8-4b85-a914-56bafeb80002",
   "metadata": {},
   "source": [
    "# Removing whitespace with strip(),rstrip() and lstrip()"
   ]
  },
  {
   "cell_type": "code",
   "execution_count": 130,
   "id": "57f1fec8-6d7f-4597-ab2c-182fc427155d",
   "metadata": {},
   "outputs": [
    {
     "data": {
      "text/plain": [
       "'hello world'"
      ]
     },
     "execution_count": 130,
     "metadata": {},
     "output_type": "execute_result"
    }
   ],
   "source": [
    "'    hello world   '.strip()  # removing spaces in the string"
   ]
  },
  {
   "cell_type": "code",
   "execution_count": 132,
   "id": "61704360-a294-44c7-8d7b-d1f63f3450d1",
   "metadata": {},
   "outputs": [
    {
     "data": {
      "text/plain": [
       "'   hello world'"
      ]
     },
     "execution_count": 132,
     "metadata": {},
     "output_type": "execute_result"
    }
   ],
   "source": [
    "'   hello world    '.rstrip()  # removing spaces from right in string "
   ]
  },
  {
   "cell_type": "code",
   "execution_count": 134,
   "id": "c906eef3-278f-4e36-a485-34da37ca1a5c",
   "metadata": {},
   "outputs": [
    {
     "data": {
      "text/plain": [
       "'hello world    '"
      ]
     },
     "execution_count": 134,
     "metadata": {},
     "output_type": "execute_result"
    }
   ],
   "source": [
    "'    hello world    '.lstrip()  # removing spaces from left in string "
   ]
  },
  {
   "cell_type": "code",
   "execution_count": 142,
   "id": "c5c6c021-985b-49aa-8ea0-a3d4e90070ff",
   "metadata": {},
   "outputs": [
    {
     "data": {
      "text/plain": [
       "'asdasdadhello worldadadasdasda'"
      ]
     },
     "execution_count": 142,
     "metadata": {},
     "output_type": "execute_result"
    }
   ],
   "source": [
    "spam = 'dasdasdadhello worldadadasdasda'\n",
    "spam.strip('hello world')"
   ]
  },
  {
   "cell_type": "markdown",
   "id": "0252deed-4241-4592-8a82-f5dca4fce012",
   "metadata": {},
   "source": [
    "# The Count Method"
   ]
  },
  {
   "cell_type": "code",
   "execution_count": null,
   "id": "c5e87ed7-df7a-4874-8adf-220211f3b52b",
   "metadata": {},
   "outputs": [],
   "source": [
    "The count() method counts the number of occurences of characters or substring in the string, it is applied to.can be optionally provided start and end index."
   ]
  },
  {
   "cell_type": "code",
   "execution_count": 145,
   "id": "79d4b648-f860-49ac-b7ce-c333c3b1937f",
   "metadata": {},
   "outputs": [
    {
     "data": {
      "text/plain": [
       "9"
      ]
     },
     "execution_count": 145,
     "metadata": {},
     "output_type": "execute_result"
    }
   ],
   "source": [
    "sentence = 'one sheep two sheep three sheep four'\n",
    "sentence.count('e')"
   ]
  },
  {
   "cell_type": "code",
   "execution_count": 147,
   "id": "1c6c8ea1-c241-4b3a-bbb3-aa9c35f173ac",
   "metadata": {},
   "outputs": [
    {
     "data": {
      "text/plain": [
       "3"
      ]
     },
     "execution_count": 147,
     "metadata": {},
     "output_type": "execute_result"
    }
   ],
   "source": [
    "sentence.count('sheep')"
   ]
  },
  {
   "cell_type": "markdown",
   "id": "e53c73cb-4c85-44c0-967c-ebe9491decee",
   "metadata": {},
   "source": [
    "# Replace method"
   ]
  },
  {
   "cell_type": "code",
   "execution_count": null,
   "id": "40eef1ef-ceea-4b4e-88e2-cdc7dbcca8d3",
   "metadata": {},
   "outputs": [],
   "source": [
    "Replces all occurences of a given substring with another substring.can be optionally provided a third argument to limit the number of replacements.Returns a new string."
   ]
  },
  {
   "cell_type": "code",
   "execution_count": 156,
   "id": "13fe31ba-ea97-4a1d-accc-202d6a8be04d",
   "metadata": {},
   "outputs": [
    {
     "data": {
      "text/plain": [
       "\"'hello' , 'python'\""
      ]
     },
     "execution_count": 156,
     "metadata": {},
     "output_type": "execute_result"
    }
   ],
   "source": [
    "spam = \"'hello' , 'world'\"\n",
    "spam.replace('world','python')"
   ]
  },
  {
   "cell_type": "code",
   "execution_count": 158,
   "id": "c51680d4-07f3-4062-8cda-ef14574f183d",
   "metadata": {},
   "outputs": [
    {
     "data": {
      "text/plain": [
       "'I saw my laptop in my briefcase'"
      ]
     },
     "execution_count": 158,
     "metadata": {},
     "output_type": "execute_result"
    }
   ],
   "source": [
    "sent = \"I saw my laptop in my suitcase\"\n",
    "sent.replace('suitcase','briefcase')"
   ]
  },
  {
   "cell_type": "code",
   "execution_count": null,
   "id": "5d2e0d6a-e628-4b79-9311-e837042ed784",
   "metadata": {},
   "outputs": [],
   "source": []
  }
 ],
 "metadata": {
  "kernelspec": {
   "display_name": "Python 3 (ipykernel)",
   "language": "python",
   "name": "python3"
  },
  "language_info": {
   "codemirror_mode": {
    "name": "ipython",
    "version": 3
   },
   "file_extension": ".py",
   "mimetype": "text/x-python",
   "name": "python",
   "nbconvert_exporter": "python",
   "pygments_lexer": "ipython3",
   "version": "3.12.7"
  }
 },
 "nbformat": 4,
 "nbformat_minor": 5
}
