{
 "cells": [
  {
   "cell_type": "code",
   "execution_count": 1,
   "id": "01eeb542-5797-49c5-becd-1c528ef27c45",
   "metadata": {},
   "outputs": [
    {
     "name": "stdout",
     "output_type": "stream",
     "text": [
      "Collecting pyttsx3\n",
      "  Downloading pyttsx3-2.98-py3-none-any.whl.metadata (3.8 kB)\n",
      "Collecting comtypes (from pyttsx3)\n",
      "  Downloading comtypes-1.4.8-py3-none-any.whl.metadata (7.1 kB)\n",
      "Collecting pypiwin32 (from pyttsx3)\n",
      "  Downloading pypiwin32-223-py3-none-any.whl.metadata (236 bytes)\n",
      "Requirement already satisfied: pywin32 in c:\\users\\h\\anaconda3\\lib\\site-packages (from pyttsx3) (305.1)\n",
      "Downloading pyttsx3-2.98-py3-none-any.whl (34 kB)\n",
      "Downloading comtypes-1.4.8-py3-none-any.whl (229 kB)\n",
      "Downloading pypiwin32-223-py3-none-any.whl (1.7 kB)\n",
      "Installing collected packages: pypiwin32, comtypes, pyttsx3\n",
      "Successfully installed comtypes-1.4.8 pypiwin32-223 pyttsx3-2.98\n"
     ]
    }
   ],
   "source": [
    "!pip install pyttsx3"
   ]
  },
  {
   "cell_type": "code",
   "execution_count": 4,
   "id": "44f1950d-f12a-49af-8422-52088ead3ed9",
   "metadata": {},
   "outputs": [],
   "source": [
    "import pyttsx3\n",
    "from IPython.display import Audio\n",
    "\n",
    "text = '''welcome to naresh technology datascience programme under prakash senapati guidance.\n",
    "        training will help practicle exposure to boost up technical skill\n",
    "        and increase learning for coding skills.\n",
    "        we conduct this programme for both non-technical & technical learners. Thank you.'''\n",
    "\n",
    "audio = pyttsx3.init()\n",
    "audio.setProperty('rate', 150)\n",
    "audio.setProperty('volume', 0.8)\n",
    "\n",
    "# change the voices\n",
    "voice = audio.getProperty('voices')\n",
    "\n",
    "# 0 for male and 1 for female\n",
    "audio.setProperty('voice', voice[0].id)      # for male voice  \n",
    "#audio.setProperty('voice', voice[1].id)       # for female voice\n",
    "\n",
    "# text-to speech conversion\n",
    "audio.say(text)\n",
    "\n",
    "# save the audio file\n",
    "audio.save_to_file(text, 'test_male_Voice.mp3')\n",
    "#audio.save_to_file(text, 'test_female_Voice.mp3')\n",
    "\n",
    "audio.runAndWait()"
   ]
  },
  {
   "cell_type": "code",
   "execution_count": null,
   "id": "238d4060-6514-4e91-b7a4-19ba0995451c",
   "metadata": {},
   "outputs": [],
   "source": []
  }
 ],
 "metadata": {
  "kernelspec": {
   "display_name": "Python 3 (ipykernel)",
   "language": "python",
   "name": "python3"
  },
  "language_info": {
   "codemirror_mode": {
    "name": "ipython",
    "version": 3
   },
   "file_extension": ".py",
   "mimetype": "text/x-python",
   "name": "python",
   "nbconvert_exporter": "python",
   "pygments_lexer": "ipython3",
   "version": "3.12.7"
  }
 },
 "nbformat": 4,
 "nbformat_minor": 5
}
